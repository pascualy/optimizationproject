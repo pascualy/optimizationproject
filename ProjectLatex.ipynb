{
 "cells": [
  {
   "cell_type": "markdown",
   "id": "10cd49fd",
   "metadata": {},
   "source": [
    "## Demand\n",
    "Let $i$ := be a variable representing the month of the year where $i \\in$ {1, 2, 3, 4, 5, 6, 7, 8, 9, 10, 11, 12}  \n",
    "        \n",
    "Let $d_{i}$:= be a variable representing the customer electricity demand for month $i$ in kilowatt-hours where $d_i \\geq 0$ \n",
    "\n",
    "Let $h_{i}$ := be a variable representing the customer heat demand for month $i$ in BTU's where $h_i \\geq 0$    "
   ]
  },
  {
   "cell_type": "markdown",
   "id": "e56c47ac",
   "metadata": {},
   "source": [
    "## Power Sources\n",
    "Let $j$ := be a variable representing service (the source of power) where $j$ $\\in$ {1, 2, 3, 4, ....}  \n",
    "Let $oc_j$ := be the opening cost in US dollars up initially setting up one unit of a specific service $j$ where $oc_j \\geq 0$  \n",
    "Let $ic_j$ := be the incremental cost in US dollars of opening up an additional unit of a specific service $j$ where $ic_j \\geq 0$   \n",
    "Let $mc_j$ := be the monthly cost in US dollars of maintaining one unit of service $j$ where $mc_j \\geq 0$   \n",
    "Let $\\rho_{i,j}$ := be the monthly $i$ capacity one unit of service $j$ in kilowatt-hours where $\\rho_j \\geq 0$  \n",
    "Let $zc$ := be the cost of on-grid power in units of dollers per kilowatt hour"
   ]
  },
  {
   "cell_type": "markdown",
   "id": "c0bc22cc",
   "metadata": {},
   "source": [
    "## Environmental Impact\n",
    "Let $ec_j$:= be the variable representing the relative environmental impact of service $j$ measured in units _______"
   ]
  },
  {
   "cell_type": "markdown",
   "id": "3918c919",
   "metadata": {},
   "source": [
    "## Decision Variables\n",
    "Let $x_j$ := be a binary variable representing whether or not the service $j$ is being chosen to use where $x_j \\in$ {0,1}  \n",
    "Let $y_{j}$ := be an integer variable representing the number of units of product $j$ where $y_j$ = {$y_j$:= $y_j$ is an integer, $y_j \\geq$ 0}  \n",
    "Let $z_i$ := be the continuous variable that represents the amount of power needed from the grid in kilowatt-hours."
   ]
  },
  {
   "cell_type": "markdown",
   "id": "dee902da",
   "metadata": {},
   "source": [
    "## Objective Function\n",
    "We want to minimize the cost\n",
    "Therefore, the objective function is the sum of the three kinds of costs: a) opening cost (oc) the cost of initially setting up a new service b) monthly cost (mc) and c) environmental cost (ec)\n",
    "$$\\min \\sum_{j} oc_jx_j + \\sum_{j} ic_jy_j + \\sum_{j} mc_{j}y_{j} + \\sum_{j} ec_{j}y_{j}  + \\sum_i z_{i}zc + \\sum_i z_{i}ec_z$$"
   ]
  },
  {
   "cell_type": "markdown",
   "id": "4d24b27d",
   "metadata": {},
   "source": [
    "## Constraints\n",
    "\n",
    "### Demand Constraints\n",
    "1) Meet customer demand for electricity per month\n",
    "\n",
    "$$\\forall i \\sum_{j\\in 'elec'} y_{j}\\rho_{i,j} + z_i \\geq d_i$$\n",
    "\n",
    "2) Meet customer demand for heat per month\n",
    "$$\\forall i \\sum_{j\\in 'heat'} y_{j}\\rho_{i,j} + z_i \\geq h_i$$\n",
    "\n",
    "3) You have an initial budget of the amount of capital you have on hand to shell out for initial set up.\n",
    "$$  \\sum_{j} oc_jx_j + \\sum_{j} ic_jy_j \\leq $200,000 $$\n",
    "\n",
    "4) You also have a monthly budget.\n",
    "$$ \\sum_{j} mc_{j}y_{j} \\leq $500 $$\n",
    "\n",
    "\n",
    "##### Note: only pay one opening cost per energy type installed (e.g., when one small and one large solar installed, only pay one opening cost)"
   ]
  },
  {
   "cell_type": "code",
   "execution_count": null,
   "id": "d43ba0be-1aa4-4757-88e2-49ba93c11433",
   "metadata": {},
   "outputs": [],
   "source": [
    "import gurobipy as gp"
   ]
  },
  {
   "cell_type": "code",
   "execution_count": null,
   "id": "31146478",
   "metadata": {},
   "outputs": [],
   "source": [
    "months = [1, 2, 3, 4, 5, 6, 7, 8, 9, 10, 11, 12]\n",
    "electricity_demand = [1, 1, 1, 1, 1, 1, 1, 1, 1, 1, 1, 1]\n",
    "heat_demand = [1, 1, 1, 1, 1, 1, 1, 1, 1, 1, 1, 1]\n",
    "\n",
    "# Grid Energy\n",
    "grid_cost_kwh = .5 # cost per kwh\n",
    "grid_cost_env = 1  # environmental cost\n",
    "\n",
    "CAPITAL_BUDGET = 200000\n",
    "OPEX_BUDGET = 500\n",
    "\n",
    "class Product:\n",
    "    HEAT = 'H'\n",
    "    ELEC = 'E'\n",
    "    ENERGY_TYPES = ['Solar', 'Wind', 'Geothermal', 'Biomass']\n",
    "    def __init__(self, name, utility_type, energy_type, opening_cost, incremental_cost, \n",
    "                 maintenance_cost, environmental_cost, monthly_capacity):\n",
    "        self.name = name\n",
    "        self.ut = utility_type       # H or E\n",
    "        self.et = energy_type        # ENERGY_TYPES\n",
    "        self.oc = opening_cost       # Dollars Per Opening\n",
    "        self.ic = incremental_cost   # Dollars Per Product\n",
    "        self.mc = maintenance_cost   # Annual Maintenance Cost\n",
    "        self.ec = environmental_cost # Per KwH\n",
    "        self.ca = monthly_capacity   # KwH per Month\n",
    "        self.x = None\n",
    "        self.y = None\n",
    "    \n",
    "    \n",
    "\n",
    "# type, name, oc, ic, mc, ec, p\n",
    "products = [\n",
    "    Product('smallsolar', 'E', 'Solar', 10000, 1000, 0, 1, [1, 1, 1, 1, 1, 1, 1, 1, 1, 1, 1, 1]),\n",
    "    Product('smallwind', 'E', 'Wind', 15000, 100, 0, 10, [1, 1, 1, 1, 1, 1, 1, 1, 1, 1, 1, 1])\n",
    "]\n",
    "\n",
    "# Social Cost of Carbon\n",
    "scc = 10\n",
    "\n",
    "m = gp.Model('sustainable_house')\n",
    "\n",
    "grid = [m.addVar(vtype=gp.GRB.INTEGER) for _ in months]\n",
    "for name, product in product.items():\n",
    "    product.x = m.addVar(vtype=gp.GRB.BINARY)\n",
    "    product.y = m.addVar(vtype=gp.GRB.INTEGER)\n",
    "\n",
    "m.setObjective(sum(product.oc * product.x for product in products) + \n",
    "               sum(product.y * (product.ic + product.mc + product.ec) for product in products) + \n",
    "               sum(monthly_grid * (grid_cost_kwh + grid_cost_env) for monthly_grid in grid), gp.GRB.MINIMIZE)\n",
    "\n",
    "for i in months:\n",
    "    m.addConstr(sum(product.ca[i] * product.y for product in products if product.et == Product.ELEC) + grid[i] >= electricity_demand[i])\n",
    "    m.addConstr(sum(product.ca[i] * product.y for product in products if product.et == Product.HEAT) + grid[i] >= heat_demand[i])\n",
    "\n",
    "for product in products:\n",
    "    m.addConstr(sum(product.x for product in products if product.et == et) * M >= product.y)\n",
    "    \n",
    "for et in Product.ENERGY_TYPES:\n",
    "    m.addConstr(sum(product.x for product in products if product.et == et) <= 1)\n",
    "\n",
    "m.addConstr(sum(product.oc * product.x + product.ic * product.y for product in products) <= CAPITAL_BUDGET)\n",
    "m.addConstr(sum(product.mc * product.y for product in products) <= OPEX_BUDGET)"
   ]
  }
 ],
 "metadata": {
  "kernelspec": {
   "display_name": "Python 3",
   "language": "python",
   "name": "python3"
  },
  "language_info": {
   "codemirror_mode": {
    "name": "ipython",
    "version": 3
   },
   "file_extension": ".py",
   "mimetype": "text/x-python",
   "name": "python",
   "nbconvert_exporter": "python",
   "pygments_lexer": "ipython3",
   "version": "3.7.10"
  }
 },
 "nbformat": 4,
 "nbformat_minor": 5
}
