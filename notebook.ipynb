{
 "cells": [
  {
   "cell_type": "code",
   "execution_count": 3,
   "metadata": {},
   "outputs": [],
   "source": [
    "!pip install tabulate\n",
    "!pip install -e ."
   ]
  },
  {
   "cell_type": "code",
   "execution_count": 1,
   "metadata": {
    "scrolled": false
   },
   "outputs": [
    {
     "name": "stdout",
     "output_type": "stream",
     "text": [
      "Academic license - for non-commercial use only - expires 2022-07-15\n",
      "Using license file /Users/pascualy/gurobi.lic\n",
      "Gurobi Optimizer version 9.1.2 build v9.1.2rc0 (mac64)\n",
      "Thread count: 4 physical cores, 8 logical processors, using up to 8 threads\n",
      "Optimize a model with 32 rows, 16 columns and 32 nonzeros\n",
      "Model fingerprint: 0xfed021ba\n",
      "Variable types: 0 continuous, 16 integer (2 binary)\n",
      "Coefficient statistics:\n",
      "  Matrix range     [1e+00, 2e+04]\n",
      "  Objective range  [1e+00, 3e+00]\n",
      "  Bounds range     [1e+00, 1e+00]\n",
      "  RHS range        [1e+00, 2e+05]\n",
      "Found heuristic solution: objective 12.0000000\n",
      "Presolve removed 32 rows and 16 columns\n",
      "Presolve time: 0.00s\n",
      "Presolve: All rows and columns removed\n",
      "\n",
      "Explored 0 nodes (0 simplex iterations) in 0.01 seconds\n",
      "Thread count was 1 (of 8 available processors)\n",
      "\n",
      "Solution count 1: 12 \n",
      "\n",
      "Optimal solution found (tolerance 1.00e-04)\n",
      "Best objective 1.200000000000e+01, best bound 1.200000000000e+01, gap 0.0000%\n",
      "\n",
      "\n",
      "\n",
      "Product Name      Quantity\n",
      "--------------  ----------\n",
      "smallsolar              -0\n",
      "smallwind               -0\n",
      "\n",
      "\n",
      "\n",
      "Cost                        Dollars ($)\n",
      "------------------------  -------------\n",
      "Total Opening Cost                    0\n",
      "Total Maintenance Cost                0\n",
      "Total Incremental Cost                0\n",
      "Total Environmental Cost              0\n",
      "Total Grid Cost                      18\n"
     ]
    }
   ],
   "source": [
    "import json\n",
    "\n",
    "from offgridoptimizer import Project, Grid\n",
    "\n",
    "def test_project():\n",
    "    with open('./configs/logan/config.json') as fp:\n",
    "        config = json.load(fp)\n",
    "\n",
    "    grid_config = config['grid']\n",
    "    budget = config['budget']\n",
    "    demand = config['demand']\n",
    "    grid = Grid(grid_config['grid_cost_kwh'], grid_config['grid_cost_env'])\n",
    "    project = Project(product_list=config['products'],\n",
    "                      grid_cost_kwh=grid_config['grid_cost_kwh'],\n",
    "                      grid_cost_env=grid_config['grid_cost_env'],\n",
    "                      initial_budget=budget['initial'],\n",
    "                      monthly_budget=budget['monthly'],\n",
    "                      monthly_electricity_demand=demand['monthly_electricity_demand'],\n",
    "                      monthly_heat_demand=demand['monthly_heat_demand'])\n",
    "    project.optimize()\n",
    "    print('\\n\\n')\n",
    "    project.print_results()\n",
    "\n",
    "test_project()"
   ]
  },
  {
   "cell_type": "code",
   "execution_count": null,
   "metadata": {},
   "outputs": [],
   "source": []
  }
 ],
 "metadata": {
  "kernelspec": {
   "display_name": "Python 3",
   "language": "python",
   "name": "python3"
  },
  "language_info": {
   "codemirror_mode": {
    "name": "ipython",
    "version": 3
   },
   "file_extension": ".py",
   "mimetype": "text/x-python",
   "name": "python",
   "nbconvert_exporter": "python",
   "pygments_lexer": "ipython3",
   "version": "3.8.8"
  }
 },
 "nbformat": 4,
 "nbformat_minor": 1
}
