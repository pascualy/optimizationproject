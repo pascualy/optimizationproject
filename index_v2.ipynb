{
 "cells": [
  {
   "cell_type": "markdown",
   "metadata": {},
   "source": [
    "### 15.066 Optimization Final Project Proposal (July 2021)\n",
    "Lauren Heintz, Gabriel Pascualy, Logan Greene, Lisa Schleuter, Jomi Kramer, Nick Esposito  \n",
    "LGO 2023  \n",
    "August 14, 2021"
   ]
  },
  {
   "cell_type": "markdown",
   "metadata": {},
   "source": [
    "<h1><center>OFF GRID HOUSING ENERGY</center></h1> "
   ]
  },
  {
   "cell_type": "markdown",
   "metadata": {},
   "source": [
    "## 1. Introduction\n",
    "\n",
    "As the effects of global warming become increasingly apparent, people are considering living off the grid. Living off the grid means that you do not rely on public utilities for utilities like electricity, running water, sewer, natural gas, or heat, but rather you create your own energy. Currently, most people take a hybrid approach meaning that they utilize small capacity renewable energy products while still utilizing some public utilities.  \n",
    "\n",
    "For many Americans, the deciding factor to transition to low-carbon electricity is that the cost of energy from these products must be cheaper than the energy produced by the grid coupled with the environmental impact associated with the implementation.  In the past, the cost of renewable energy products was very expensive making it financially impractical to make the transition due to high initial costs for the equipment. Over time, the financial benefit of renewable energy products can save a substantial amount of money on utilities while vastly decreasing the impact on the environment. Just a decade ago, it was much cheaper to build a new coal-burning power plant than it was to build a large capacity wind or solar plant. Since then, the price per MWh has declined by 89% for large capacity renewable energy sources which has trickled down into the smaller capacity renewable energy product market (Roser, 2020)1. Recently, reductions in the initial cost of renewable energy products have been spurred on by improvements in manufacturing processes and advances in technology which have made living off the grid more accessible to a wider range of income levels. As of 2017, approximately 180,000 families live off the grid which is expected to significantly increase every year (Infoplease, 2020)2. \n",
    "\n",
    "Our project aims to assist Americans considering living off the grid. We plan to develop a tool to help minimize the overall cost associated with off-grid products for a family’s energy needs based on the energy resources available. Depending on their location, people can input variables into the tool, such as average monthly electricity and heat demand, initial and monthly budget, and costs associated with renewable energy products and grid information. Based on these parameters, the tool will output the best combination of products (including utilizing the grid) and the optimal number of units of each product to meet demand while minimizing financial and environmental costs.  "
   ]
  },
  {
   "cell_type": "markdown",
   "metadata": {},
   "source": [
    "## 2. Background\n",
    "####  Demand\n",
    "Demand Variations:\n",
    "- Different locations (in a drop down list)\n",
    "- show plots of solar efficiency and wind efficiency\n",
    "- plots on weather\n",
    "- different times of year (seasonal patterns)\n",
    "\n",
    "#### Cost Structure\n",
    "- define a generic power source and the cost structure associated with it\n",
    "- ic, mc, oc\n",
    "\n",
    "#### Power Sources\n",
    "- explain solar (specs, etc)\n",
    "- explain wind (specs, etc)\n",
    "- explain batteries (specs, etc) \n",
    "- discussion the sample output from this tool: we want to know what mix of products and storage to buy\n",
    "- discussion on the energy generation products and the storage needed, how it interacts\n",
    "- explain all the storage variables here\n",
    "- discussion/assumption of battery starting partially full *** \n",
    "- graph of line plots showing: demand, energy generated, energy stored, and grid power over the same x-axis of time\n",
    "- pictures of turbine, solar panel, battery"
   ]
  },
  {
   "cell_type": "markdown",
   "metadata": {},
   "source": [
    "## 3. Theoretical Formulation\n",
    "- full list of decision vars, constraints, objective\n",
    "- parameter list"
   ]
  },
  {
   "cell_type": "markdown",
   "metadata": {},
   "source": [
    "### A. Demand\n",
    "Let $m$ := be the month of the year where $m \\in M$ where $M = \\{{1, 2, 3, 4, 5, 6, 7, 8, 9, 10, 11, 12}\\}$\n",
    "\n",
    "Let $h$ := be the hour of the day where $h \\in H$ where $H = \\{{0, 1, 2, 3, 4, 5, 6, 7, 8, 9, 10, 11, 12, 13, 14, 15, 16, 17, 18, 19, 20, 21, 22, 23}\\}$\n",
    "\n",
    "Let $d_{m,h}$:= be the customer electricity demand in KwH during hour $h$ in month $m$  where $d_{m,h} \\geq 0$"
   ]
  },
  {
   "cell_type": "markdown",
   "metadata": {},
   "source": [
    "### B. Power Source Parameters\n",
    "Let $j$ := be a product $j$ $\\in$ $J$ where $J = \\{{\"smallsolar\", \"largesolar\", \"smallwind\", \"largewind\", \"smallbattery\"}\\}$\n",
    "\n",
    "Let $E$ := be a set containing indices of products which generate electricity \n",
    "\n",
    "Let $S$ := be a set containing indices of products which store electricity \n",
    "\n",
    "Let $et$ := be an energy type where $et \\in T = \\{{\"solar\", \"wind\", \"storage\"}\\}$\n",
    "\n",
    "Let $ET_{et}$ := be a set containing all products of energy type $et$\n",
    "\n",
    "Let $f: J \\rightarrow ET_{et}$ := be a dictionary that maps a product $j$ to the set containing all products with the same energy type $et$\n",
    "\n",
    "Let $oc_{j}$ := be the opening cost in US dollars of installing required infrastructure for product $j$ which belongs to an energy type $et$\n",
    "\n",
    "Let $ic_j$ := be the incremental cost in US dollars of opening up an additional unit of a specific product $j$ where $ic_j \\geq 0$\n",
    "\n",
    "Let $mc_j$ := be the monthly cost in US dollars of maintaining one unit of product $j$ where $mc_j \\geq 0$\n",
    "\n",
    "Let $\\rho_{m,h,j}$ := be the efficiency of product $j$ during hour $h$ in month $m$ where $\\rho_{m,h,j}$ is continuous from 0 to 1\n",
    "\n",
    "Let $c_{j}$ := be the capacity of product $j$ in KwH if it generates or stores electricity\n",
    "\n",
    "Let $gc_{m,h}$ := be the cost of on-grid power in units of dollers per kilowatt hour"
   ]
  },
  {
   "cell_type": "markdown",
   "metadata": {},
   "source": [
    "### C. Decision Variables\n",
    "Let $x_j$ := be a binary variable representing whether or not the opening cost of $j$'s energy type is paid for where $x_j \\in$ {0,1}\n",
    "\n",
    "Let $y_{j}$ := be an integer variable representing the number of units of product $j$ where $y_j \\geq$ 0\n",
    "\n",
    "Let $g_{m,h}$ := be the continuous variable that represents the amount of power needed from the grid in kilowatt-hours during hour $h$ in month $m$.\n",
    "\n",
    "Let $es_{m,h,j}$ := be the continuous variable that represents the amount of energy stored by product $j$ (note: not all products can store energy)\n",
    "\n",
    "Let $sc_{m,h,j}$ := be the continuous variable that represents the amount of stored consumed from product $j$ (note: not all products can store energy)"
   ]
  },
  {
   "cell_type": "markdown",
   "metadata": {},
   "source": [
    "### D. Calculated Variables\n",
    "\n",
    "Let $ES_{m,h}$ := be the total energy stored this year through month $m$ and hour $h$ calculated by summing cumulative the energy stored each hour for all products $\\sum_{j \\in J} es_{m,h,j}$\n",
    "\n",
    "Let $SC_{m,h}$ := be the total storage consumed this year through month $m$ and hour $h$ calculated by summing the cumulative energy consumed each hour for all products $\\sum_{j \\in J} sc_{m,h,j}$\n",
    "\n",
    "Let $TT$ := be the total energy storage of the system calculated by summing the capacity of all products $\\sum_{j \\in J} c_{j}y_{j}$\n",
    "\n"
   ]
  },
  {
   "cell_type": "markdown",
   "metadata": {},
   "source": [
    "### E. Objective Function\n",
    "We want to minimize the cost; therefore, the objective function is the sum of the three kinds of costs:\n",
    "\n",
    "    a) opening cost (oc) the cost of initially setting up a new service\n",
    "\n",
    "    b) incremental cost (ic)\n",
    "    \n",
    "    c) monthly cost (mc)\n",
    "\n",
    "    d) grid monthly cost (g)\n",
    "\n",
    "$$\\min \\sum_{j \\in J} oc_{j}x_j + \\sum_{j \\in J} ic_jy_j + \\sum_{j \\in J} mc_{j}y_{j}  + \\sum_{m \\in M} \\sum_{h \\in H} g_{m,h}$$"
   ]
  },
  {
   "cell_type": "markdown",
   "metadata": {},
   "source": [
    "### F. Constraints\n",
    "\n",
    "##### Demand Constraints\n",
    "1) Meet customer demand for electricity per hour per month by summing the energy generation products ($E$) output, the stored energy ($S$) available, and grid power ($g$) available\n",
    "\n",
    "$$\\forall m \\in M, \\forall h \\in H:  \\sum_{j\\in E} \\rho_{m,h,j} y_{j} + \\sum_{j\\in S}sc_{m,h,j} + g_{m,h} \\geq d_{m,h}$$\n",
    "\n",
    "##### Budget Constraints\n",
    "2) You have an initial budget of the amount of capital you have on hand to shell out for initial set up.\n",
    "$$  \\sum_{j \\in J} oc_{j}x_j + \\sum_{j \\in J} ic_jy_j \\leq $200,000 $$\n",
    "\n",
    "3) You also have a monthly budget.\n",
    "$$ \\sum_{j \\in J} mc_{j}y_{j} \\leq $500 $$\n",
    "\n",
    "##### Set up and Installation Constraints\n",
    "4) Ensure at least 1 $x_j$ per energy type is 1 when any $y_j$ of the energy type is $\\geq 1$\n",
    "\n",
    "$$ \\forall j \\in ET_{solar}: \\sum_{j' \\in ET_{solar}} x_{j'} * M >= y_{j}$$\n",
    "\n",
    "$$ \\forall j \\in ET_{wind}: \\sum_{j' \\in ET_{wind}} x_{j'} * M >= y_{j}$$\n",
    "\n",
    "$$ \\forall j \\in ET_{storage}: \\sum_{j' \\in ET_{storage}} x_{j'} * M >= y_{j}$$\n",
    "\n",
    "5) Ensure that at most 1 $x_j$ per energy type is equal to 1\n",
    "\n",
    "$$ \\forall et \\in ET: \\sum_{j\\in ET_{et}}x_j \\leq 1$$\n",
    "\n",
    "##### Storage Constraints\n",
    "6) Total storage consumed at hour $h$ during month $m$ cannot exceed electricity stored\n",
    "\n",
    "$$ \\forall m \\in M, \\forall h \\in H\\space: SC_{m,h} \\leq ES_{m,h} $$ \n",
    "\n",
    "7) Storage available at hour $h$ during month $m$ cannot exceed total storage capacity\n",
    "\n",
    "$$ \\forall m \\in M, \\forall h \\in H\\space: ES_{m,h} - SC_{m,h}  \\leq TT $$\n",
    "\n",
    "8) Electricity stored at hour $h$ during month $m$ cannot exceed the sum of electricity produced, storage consumed, and grid usage minus demand at hour $h$ during month $m$ \n",
    "\n",
    "$$ \\forall m \\in M, \\forall h \\in H:\\space \\sum_{j\\in S} es_{m,h,j} \\leq \\sum_{j\\in E} \\rho_{m,h,j} y_{j} + \\sum_{j\\in S} sc_{m,h,j} + g_{m,h} - d_{m,h} $$\n",
    "\n"
   ]
  },
  {
   "cell_type": "markdown",
   "metadata": {},
   "source": [
    "## 4. Interface/Gui\n",
    "- description of features & capability\n",
    "- hosted on binder and accessible via github\n",
    "- explanation of the visuals included in the output\n",
    "\n",
    "## 5. Results\n",
    "#### Sub Experiments\n",
    "- compare the results of off grid cost over 1, 3, 5, 10, 20, 30 years to the cost of just grid power for those times (graphs)\n",
    "- take total grid cost over 50 years (something larger than the amortization period), add constraint so that total cost of system over 50 years is equal to the total grid cost. \n",
    "    - make amortization a decision variable so that you can solve the minimization to minimize your amortization period to figure out the break even point\n",
    "    - Solving for the break even point in terms of # of years, and factoring amortization in to that\n",
    "- show different results for a few different regions of the country (differing demand)\n",
    "- relax or tighten budget constraints (cheap, medium, expensive option)\n",
    "    - show variation in budget and resulting plots of energy generated, energy needed from grid, mix of products purchased (as output by our optimization)\n",
    "- run some variations where it is a seasonal vacation home and only use the demand for that period and see the results\n",
    "- shadow prices\n",
    "    - try to look at the shadow prices of the capital budget\n",
    "    - shadow price of specific products?\n",
    "- by adjusting the capital budget, see how the break even points varies (in terms of years)\n",
    "- in discussion of results, use the size of the solar panels and space needed for wind turbines to output how much sqft or acreage is needed to support this amount of product\n",
    "    - could also be implemented as a constraint too but TBD for now"
   ]
  },
  {
   "cell_type": "markdown",
   "metadata": {},
   "source": [
    "## 6. Optimization Tool"
   ]
  },
  {
   "cell_type": "code",
   "execution_count": 4,
   "metadata": {
    "pycharm": {
     "name": "#%%\n"
    },
    "scrolled": false
   },
   "outputs": [
    {
     "data": {
      "application/vnd.jupyter.widget-view+json": {
       "model_id": "faaf0f0445c24ae0b575018f4e9ed8d3",
       "version_major": 2,
       "version_minor": 0
      },
      "text/plain": [
       "Box(children=(Box(children=(HTML(value='<h2>Off-Grid Optimizer</h2>', layout=Layout(height='auto')), Dropdown(…"
      ]
     },
     "metadata": {},
     "output_type": "display_data"
    }
   ],
   "source": [
    "from offgridoptimizer.interface import OffGridOptimizer\n",
    "ogo = OffGridOptimizer()\n",
    "# ogo.load_sheets(None)\n",
    "# ogo.optimize(None)\n",
    "ogo.interface"
   ]
  },
  {
   "cell_type": "code",
   "execution_count": null,
   "metadata": {},
   "outputs": [],
   "source": []
  }
 ],
 "metadata": {
  "kernelspec": {
   "display_name": "Python 3",
   "language": "python",
   "name": "python3"
  },
  "language_info": {
   "codemirror_mode": {
    "name": "ipython",
    "version": 3
   },
   "file_extension": ".py",
   "mimetype": "text/x-python",
   "name": "python",
   "nbconvert_exporter": "python",
   "pygments_lexer": "ipython3",
   "version": "3.8.8"
  }
 },
 "nbformat": 4,
 "nbformat_minor": 1
}
