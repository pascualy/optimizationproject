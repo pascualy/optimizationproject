{
 "cells": [
  {
   "cell_type": "markdown",
   "metadata": {},
   "source": [
    "### 15.066 Optimization Final Project Proposal (July 2021)\n",
    "Lauren Heintz, Gabriel Pascualy, Logan Greene, Lisa Schleuter, Jomi Kramer, Nick Esposito  \n",
    "LGO 2023  \n",
    "August 14, 2021"
   ]
  },
  {
   "cell_type": "markdown",
   "metadata": {},
   "source": [
    "<h1><center>OFF GRID HOUSING ENERGY</center></h1> "
   ]
  },
  {
   "cell_type": "markdown",
   "metadata": {},
   "source": [
    "## 1. Introduction\n",
    "\n",
    "As the effects of global warming become increasingly apparent, people are considering living off the grid. Living off the grid means that you do not rely on public utilities for utilities like electricity, running water, sewer, natural gas, or heat, but rather you create your own energy. Currently, most people take a hybrid approach meaning that they utilize small capacity renewable energy products while still utilizing some public utilities.  \n",
    "\n",
    "For many Americans, the deciding factor to transition to low-carbon electricity is that the cost of energy from these products must be cheaper than the energy produced by the grid coupled with the environmental impact associated with the implementation.  In the past, the cost of renewable energy products was very expensive making it financially impractical to make the transition due to high initial costs for the equipment. Over time, the financial benefit of renewable energy products can save a substantial amount of money on utilities while vastly decreasing the impact on the environment. Just a decade ago, it was much cheaper to build a new coal-burning power plant than it was to build a large capacity wind or solar plant. Since then, the price per MWh has declined by 89% for large capacity renewable energy sources which has trickled down into the smaller capacity renewable energy product market (Roser, 2020)1. Recently, reductions in the initial cost of renewable energy products have been spurred on by improvements in manufacturing processes and advances in technology which have made living off the grid more accessible to a wider range of income levels. As of 2017, approximately 180,000 families live off the grid which is expected to significantly increase every year (Infoplease, 2020)2. \n",
    "\n",
    "Our project aims to assist Americans considering living off the grid. We plan to develop a tool to help minimize the overall cost associated with off-grid products for a family’s energy needs based on the energy resources available. Depending on their location, people can input variables into the tool, such as average monthly electricity and heat demand, initial and monthly budget, and costs associated with renewable energy products and grid information. Based on these parameters, the tool will output the best combination of products (including utilizing the grid) and the optimal number of units of each product to meet demand while minimizing financial and environmental costs.  "
   ]
  },
  {
   "cell_type": "markdown",
   "metadata": {},
   "source": [
    "## 2. Background\n",
    "####  Demand\n",
    "Demand Variations:\n",
    "- Different locations (in a drop down list)\n",
    "- show plots of solar efficiency and wind efficiency\n",
    "- plots on weather\n",
    "- different times of year (seasonal patterns)\n",
    "\n",
    "#### Cost Structure\n",
    "- define a generic power source and the cost structure associated with it\n",
    "- ic, mc, oc\n",
    "\n",
    "#### Power Sources\n",
    "- explain solar (specs, etc)\n",
    "- explain wind (specs, etc)\n",
    "- explain batteries (specs, etc) \n",
    "- discussion the sample output from this tool: we want to know what mix of products and storage to buy\n",
    "- discussion on the energy generation products and the storage needed, how it interacts\n",
    "- explain all the storage variables here\n",
    "- discussion/assumption of battery starting partially full *** \n",
    "- graph of line plots showing: demand, energy generated, energy stored, and grid power over the same x-axis of time\n",
    "- pictures of turbine, solar panel, battery"
   ]
  },
  {
   "cell_type": "markdown",
   "metadata": {},
   "source": [
    "## 3. Theoretical Formulation\n",
    "- full list of decision vars, constraints, objective\n",
    "- parameter list"
   ]
  },
  {
   "cell_type": "markdown",
   "metadata": {},
   "source": [
    "### A. Demand\n",
    "Let $m$ := be the month of the year where $m \\in M$ where $M = \\{{1, 2, 3, 4, 5, 6, 7, 8, 9, 10, 11, 12}\\}$\n",
    "\n",
    "Let $h$ := be the hour of the day where $h \\in H$ where $H = \\{{0, 1, 2, 3, 4, 5, 6, 7, 8, 9, 10, 11, 12, 13, 14, 15, 16, 17, 18, 19, 20, 21, 22, 23}\\}$\n",
    "\n",
    "Let $d_{m,h}$:= be the customer electricity demand in KwH during hour $h$ in month $m$  where $d_{m,h} \\geq 0$"
   ]
  },
  {
   "cell_type": "markdown",
   "metadata": {},
   "source": [
    "### B. Power Source Parameters\n",
    "Let $j$ := be a product $j$ $\\in$ $J$ where $J = \\{{\"smallsolar\", \"largesolar\", \"smallwind\", \"largewind\", \"smallbattery\"}\\}$\n",
    "\n",
    "Let $E$ := be a set containing indices of products which generate electricity \n",
    "\n",
    "Let $S$ := be a set containing indices of products which store electricity \n",
    "\n",
    "Let $et$ := be an energy type where $et \\in T = \\{{\"solar\", \"wind\", \"storage\"}\\}$\n",
    "\n",
    "Let $ET_{et}$ := be a set containing all products of energy type $et$\n",
    "\n",
    "Let $f: J \\rightarrow ET_{et}$ := be a dictionary that maps a product $j$ to the set containing all products with the same energy type $et$\n",
    "\n",
    "Let $oc_{j}$ := be the opening cost in US dollars of installing required infrastructure for product $j$ which belongs to an energy type $et$\n",
    "\n",
    "Let $ic_j$ := be the incremental cost in US dollars of opening up an additional unit of a specific product $j$ where $ic_j \\geq 0$\n",
    "\n",
    "Let $mc_j$ := be the monthly cost in US dollars of maintaining one unit of product $j$ where $mc_j \\geq 0$\n",
    "\n",
    "Let $\\rho_{m,h,j}$ := be the efficiency of product $j$ during hour $h$ in month $m$ where $\\rho_{m,h,j}$ is continuous from 0 to 1\n",
    "\n",
    "Let $c_{j}$ := be the capacity of product $j$ in KwH if it generates or stores electricity\n",
    "\n",
    "Let $gc_{m,h}$ := be the cost of on-grid power in units of dollers per kilowatt hour"
   ]
  },
  {
   "cell_type": "markdown",
   "metadata": {},
   "source": [
    "### C. Decision Variables\n",
    "Let $x_j$ := be a binary variable representing whether or not the opening cost of $j$'s energy type is paid for where $x_j \\in$ {0,1}\n",
    "\n",
    "Let $y_{j}$ := be an integer variable representing the number of units of product $j$ where $y_j \\geq$ 0\n",
    "\n",
    "Let $g_{m,h}$ := be the continuous variable that represents the amount of power needed from the grid in kilowatt-hours during hour $h$ in month $m$.\n",
    "\n",
    "Let $es_{m,h,j}$ := be the continuous variable that represents the amount of energy stored by product $j$ (note: not all products can store energy)\n",
    "\n",
    "Let $sc_{m,h,j}$ := be the continuous variable that represents the amount of stored consumed from product $j$ (note: not all products can store energy)"
   ]
  },
  {
   "cell_type": "markdown",
   "metadata": {},
   "source": [
    "### D. Calculated Variables\n",
    "\n",
    "Let $ES_{m,h}$ := be the total energy stored this year through month $m$ and hour $h$ calculated by summing cumulative the energy stored each hour for all products $\\sum_{j \\in J} es_{m,h,j}$\n",
    "\n",
    "Let $SC_{m,h}$ := be the total storage consumed this year through month $m$ and hour $h$ calculated by summing the cumulative energy consumed each hour for all products $\\sum_{j \\in J} sc_{m,h,j}$\n",
    "\n",
    "Let $TT$ := be the total energy storage of the system calculated by summing the capacity of all products $\\sum_{j \\in J} c_{j}y_{j}$\n",
    "\n"
   ]
  },
  {
   "cell_type": "markdown",
   "metadata": {},
   "source": [
    "### E. Objective Function\n",
    "We want to minimize the cost; therefore, the objective function is the sum of the three kinds of costs:\n",
    "\n",
    "    a) opening cost (oc) the cost of initially setting up a new service\n",
    "\n",
    "    b) incremental cost (ic)\n",
    "    \n",
    "    c) monthly cost (mc)\n",
    "\n",
    "    d) grid monthly cost (g)\n",
    "\n",
    "$$\\min \\sum_{j \\in J} oc_{j}x_j + \\sum_{j \\in J} ic_jy_j + \\sum_{j \\in J} mc_{j}y_{j}  + \\sum_{m \\in M} \\sum_{h \\in H} g_{m,h}$$"
   ]
  },
  {
   "cell_type": "markdown",
   "metadata": {},
   "source": [
    "### F. Constraints\n",
    "\n",
    "##### Demand Constraints\n",
    "1) Meet customer demand for electricity per hour per month by summing the energy generation products ($E$) output, the stored energy ($S$) available, and grid power ($g$) available\n",
    "\n",
    "$$\\forall m \\in M, \\forall h \\in H:  \\sum_{j\\in E} \\rho_{m,h,j} y_{j} + \\sum_{j\\in S}sc_{m,h,j} + g_{m,h} \\geq d_{m,h}$$\n",
    "\n",
    "##### Budget Constraints\n",
    "2) You have an initial budget of the amount of capital you have on hand to shell out for initial set up.\n",
    "$$  \\sum_{j \\in J} oc_{j}x_j + \\sum_{j \\in J} ic_jy_j \\leq $200,000 $$\n",
    "\n",
    "3) You also have a monthly budget.\n",
    "$$ \\sum_{j \\in J} mc_{j}y_{j} \\leq $500 $$\n",
    "\n",
    "##### Set up and Installation Constraints\n",
    "4) Ensure at least 1 $x_j$ per energy type is 1 when any $y_j$ of the energy type is $\\geq 1$\n",
    "\n",
    "$$ \\forall j \\in ET_{solar}: \\sum_{j' \\in ET_{solar}} x_{j'} * M >= y_{j}$$\n",
    "\n",
    "$$ \\forall j \\in ET_{wind}: \\sum_{j' \\in ET_{wind}} x_{j'} * M >= y_{j}$$\n",
    "\n",
    "$$ \\forall j \\in ET_{storage}: \\sum_{j' \\in ET_{storage}} x_{j'} * M >= y_{j}$$\n",
    "\n",
    "5) Ensure that at most 1 $x_j$ per energy type is equal to 1\n",
    "\n",
    "$$ \\forall et \\in ET: \\sum_{j\\in ET_{et}}x_j \\leq 1$$\n",
    "\n",
    "##### Storage Constraints\n",
    "6) Total storage consumed at hour $h$ during month $m$ cannot exceed electricity stored\n",
    "\n",
    "$$ \\forall m \\in M, \\forall h \\in H\\space: SC_{m,h} \\leq ES_{m,h} $$ \n",
    "\n",
    "7) Storage available at hour $h$ during month $m$ cannot exceed total storage capacity\n",
    "\n",
    "$$ \\forall m \\in M, \\forall h \\in H\\space: ES_{m,h} - SC_{m,h}  \\leq TT $$\n",
    "\n",
    "8) Electricity stored at hour $h$ during month $m$ cannot exceed the sum of electricity produced, storage consumed, and grid usage minus demand at hour $h$ during month $m$ \n",
    "\n",
    "$$ \\forall m \\in M, \\forall h \\in H:\\space \\sum_{j\\in S} es_{m,h,j} \\leq \\sum_{j\\in E} \\rho_{m,h,j} y_{j} + \\sum_{j\\in S} sc_{m,h,j} + g_{m,h} - d_{m,h} $$\n",
    "\n"
   ]
  },
  {
   "cell_type": "markdown",
   "metadata": {},
   "source": [
    "## 4. Interface/Gui\n",
    "- description of features & capability\n",
    "- hosted on binder and accessible via github\n",
    "- explanation of the visuals included in the output\n",
    "\n",
    "## 5. Results\n",
    "#### Sub Experiments\n",
    "- compare the results of off grid cost over 1, 3, 5, 10, 20, 30 years to the cost of just grid power for those times (graphs)\n",
    "- take total grid cost over 50 years (something larger than the amortization period), add constraint so that total cost of system over 50 years is equal to the total grid cost. \n",
    "    - make amortization a decision variable so that you can solve the minimization to minimize your amortization period to figure out the break even point\n",
    "    - Solving for the break even point in terms of # of years, and factoring amortization in to that\n",
    "- show different results for a few different regions of the country (differing demand)\n",
    "- relax or tighten budget constraints (cheap, medium, expensive option)\n",
    "    - show variation in budget and resulting plots of energy generated, energy needed from grid, mix of products purchased (as output by our optimization)\n",
    "- run some variations where it is a seasonal vacation home and only use the demand for that period and see the results\n",
    "- shadow prices\n",
    "    - try to look at the shadow prices of the capital budget\n",
    "    - shadow price of specific products?\n",
    "- by adjusting the capital budget, see how the break even points varies (in terms of years)\n",
    "- in discussion of results, use the size of the solar panels and space needed for wind turbines to output how much sqft or acreage is needed to support this amount of product\n",
    "    - could also be implemented as a constraint too but TBD for now"
   ]
  },
  {
   "cell_type": "markdown",
   "metadata": {},
   "source": [
    "## 6. Optimization Tool"
   ]
  },
  {
   "cell_type": "code",
   "execution_count": 1,
   "metadata": {
    "pycharm": {
     "name": "#%%\n"
    }
   },
   "outputs": [
    {
     "name": "stdout",
     "output_type": "stream",
     "text": [
      "Changed value of parameter LogToConsole to 0\n",
      "   Prev: 1  Min: 0  Max: 1  Default: 1\n",
      "[140614032916096, 140614032871872, 140614032836352, 140614032836160]\n"
     ]
    },
    {
     "data": {
      "application/vnd.jupyter.widget-view+json": {
       "model_id": "d45bfcda9b6247e396f31044eee908d0",
       "version_major": 2,
       "version_minor": 0
      },
      "text/plain": [
       "Box(children=(Box(children=(HTML(value='<h2>Off-Grid Optimizer</h2>', layout=Layout(height='auto')), Box(child…"
      ]
     },
     "metadata": {},
     "output_type": "display_data"
    }
   ],
   "source": [
    "import gurobipy as gp\n",
    "from offgridoptimizer.interface import OffGridOptimizer\n",
    "ogo = OffGridOptimizer()\n",
    "ogo.load_sheets(None)\n",
    "\n",
    "# ogo.product_table.add_row(None)\n",
    "\n",
    "ogo.optimize(None)\n",
    "ogo.interface"
   ]
  },
  {
   "cell_type": "code",
   "execution_count": 6,
   "metadata": {},
   "outputs": [
    {
     "data": {
      "application/vnd.plotly.v1+json": {
       "config": {
        "plotlyServerURL": "https://plot.ly"
       },
       "data": [
        {
         "line": {
          "color": "#636EFA"
         },
         "mode": "lines",
         "name": "Demand (KwH)",
         "type": "scatter",
         "visible": true,
         "x": [
          "2020-01-01T00:00:00",
          "2020-01-01T01:00:00",
          "2020-01-01T02:00:00",
          "2020-01-01T03:00:00",
          "2020-01-01T04:00:00",
          "2020-01-01T05:00:00",
          "2020-01-01T06:00:00",
          "2020-01-01T07:00:00",
          "2020-01-01T08:00:00",
          "2020-01-01T09:00:00",
          "2020-01-01T10:00:00",
          "2020-01-01T11:00:00",
          "2020-01-01T12:00:00",
          "2020-01-01T13:00:00",
          "2020-01-01T14:00:00",
          "2020-01-01T15:00:00",
          "2020-01-01T16:00:00",
          "2020-01-01T17:00:00",
          "2020-01-01T18:00:00",
          "2020-01-01T19:00:00",
          "2020-01-01T20:00:00",
          "2020-01-01T21:00:00",
          "2020-01-01T22:00:00",
          "2020-01-01T23:00:00"
         ],
         "xaxis": "x",
         "y": [
          0.490022204180034,
          0.466953784387657,
          0.454788349074264,
          0.450618435712126,
          0.451842630460643,
          0.465882613982704,
          0.505592431137741,
          0.571086850183429,
          0.602265560184735,
          0.578546786932208,
          0.543733748771241,
          0.524184888880851,
          0.515921574328358,
          0.513358416573649,
          0.519479390316237,
          0.529578996991507,
          0.54729156475912,
          0.571698947557688,
          0.603374986675579,
          0.598784256368638,
          0.582563675950781,
          0.56133154828118,
          0.533328093408842,
          0.496984811812227
         ],
         "yaxis": "y"
        },
        {
         "line": {
          "color": "#EF553B"
         },
         "mode": "lines",
         "name": "Solar Efficiency (%)",
         "type": "scatter",
         "visible": "legendonly",
         "x": [
          "2020-01-01T00:00:00",
          "2020-01-01T01:00:00",
          "2020-01-01T02:00:00",
          "2020-01-01T03:00:00",
          "2020-01-01T04:00:00",
          "2020-01-01T05:00:00",
          "2020-01-01T06:00:00",
          "2020-01-01T07:00:00",
          "2020-01-01T08:00:00",
          "2020-01-01T09:00:00",
          "2020-01-01T10:00:00",
          "2020-01-01T11:00:00",
          "2020-01-01T12:00:00",
          "2020-01-01T13:00:00",
          "2020-01-01T14:00:00",
          "2020-01-01T15:00:00",
          "2020-01-01T16:00:00",
          "2020-01-01T17:00:00",
          "2020-01-01T18:00:00",
          "2020-01-01T19:00:00",
          "2020-01-01T20:00:00",
          "2020-01-01T21:00:00",
          "2020-01-01T22:00:00",
          "2020-01-01T23:00:00"
         ],
         "xaxis": "x",
         "y": [
          0,
          0,
          0,
          0,
          0,
          0,
          0,
          5.209677419354838,
          20.496774193548386,
          34.62903225806451,
          41.84193548387098,
          43.883870967741935,
          41.23225806451614,
          31.96774193548387,
          19.816129032258058,
          6.432258064516128,
          0.012903225806451613,
          0,
          0,
          0,
          0,
          0,
          0,
          0
         ],
         "yaxis": "y2"
        },
        {
         "line": {
          "color": "#00CC96"
         },
         "mode": "lines",
         "name": "Wind Efficiency (%)",
         "type": "scatter",
         "visible": "legendonly",
         "x": [
          "2020-01-01T00:00:00",
          "2020-01-01T01:00:00",
          "2020-01-01T02:00:00",
          "2020-01-01T03:00:00",
          "2020-01-01T04:00:00",
          "2020-01-01T05:00:00",
          "2020-01-01T06:00:00",
          "2020-01-01T07:00:00",
          "2020-01-01T08:00:00",
          "2020-01-01T09:00:00",
          "2020-01-01T10:00:00",
          "2020-01-01T11:00:00",
          "2020-01-01T12:00:00",
          "2020-01-01T13:00:00",
          "2020-01-01T14:00:00",
          "2020-01-01T15:00:00",
          "2020-01-01T16:00:00",
          "2020-01-01T17:00:00",
          "2020-01-01T18:00:00",
          "2020-01-01T19:00:00",
          "2020-01-01T20:00:00",
          "2020-01-01T21:00:00",
          "2020-01-01T22:00:00",
          "2020-01-01T23:00:00"
         ],
         "xaxis": "x",
         "y": [
          40.396774193548396,
          39.44516129032258,
          38.68064516129032,
          37.26451612903225,
          35.58709677419355,
          34.08709677419355,
          32.696774193548386,
          31.5,
          29.10645161290322,
          28.796774193548387,
          33.23870967741936,
          35.99354838709677,
          36.483870967741936,
          35.45806451612903,
          34.9,
          35.32903225806453,
          37.10967741935483,
          38.39032258064516,
          38.97096774193548,
          38.30322580645161,
          38.251612903225805,
          40.638709677419364,
          43.248387096774195,
          43.22258064516128
         ],
         "yaxis": "y2"
        },
        {
         "line": {
          "color": "#AB63FA"
         },
         "mode": "lines",
         "name": "Capacity (KwH)",
         "type": "scatter",
         "visible": "legendonly",
         "x": [
          "2020-01-01T00:00:00",
          "2020-01-01T01:00:00",
          "2020-01-01T02:00:00",
          "2020-01-01T03:00:00",
          "2020-01-01T04:00:00",
          "2020-01-01T05:00:00",
          "2020-01-01T06:00:00",
          "2020-01-01T07:00:00",
          "2020-01-01T08:00:00",
          "2020-01-01T09:00:00",
          "2020-01-01T10:00:00",
          "2020-01-01T11:00:00",
          "2020-01-01T12:00:00",
          "2020-01-01T13:00:00",
          "2020-01-01T14:00:00",
          "2020-01-01T15:00:00",
          "2020-01-01T16:00:00",
          "2020-01-01T17:00:00",
          "2020-01-01T18:00:00",
          "2020-01-01T19:00:00",
          "2020-01-01T20:00:00",
          "2020-01-01T21:00:00",
          "2020-01-01T22:00:00",
          "2020-01-01T23:00:00"
         ],
         "xaxis": "x",
         "y": [
          2415.7270967741943,
          2358.82064516129,
          2313.102580645161,
          2228.4180645161287,
          2128.108387096774,
          2038.4083870967743,
          1955.2670967741933,
          1883.7,
          1740.5658064516126,
          1722.0470967741935,
          1987.6748387096777,
          2152.414193548387,
          2181.735483870968,
          2120.3922580645158,
          2087.02,
          2112.676129032259,
          2219.1587096774188,
          2295.741290322581,
          2330.4638709677415,
          2290.532903225806,
          2287.4464516129033,
          2430.194838709678,
          2586.2535483870965,
          2584.7103225806445
         ],
         "yaxis": "y"
        },
        {
         "line": {
          "color": "#FFA15A"
         },
         "mode": "lines",
         "name": "Storage Level (KwH)",
         "type": "scatter",
         "visible": "legendonly",
         "x": [
          "2020-01-01T00:00:00",
          "2020-01-01T01:00:00",
          "2020-01-01T02:00:00",
          "2020-01-01T03:00:00",
          "2020-01-01T04:00:00",
          "2020-01-01T05:00:00",
          "2020-01-01T06:00:00",
          "2020-01-01T07:00:00",
          "2020-01-01T08:00:00",
          "2020-01-01T09:00:00",
          "2020-01-01T10:00:00",
          "2020-01-01T11:00:00",
          "2020-01-01T12:00:00",
          "2020-01-01T13:00:00",
          "2020-01-01T14:00:00",
          "2020-01-01T15:00:00",
          "2020-01-01T16:00:00",
          "2020-01-01T17:00:00",
          "2020-01-01T18:00:00",
          "2020-01-01T19:00:00",
          "2020-01-01T20:00:00",
          "2020-01-01T21:00:00",
          "2020-01-01T22:00:00",
          "2020-01-01T23:00:00"
         ],
         "xaxis": "x",
         "y": [
          0,
          0,
          0,
          0,
          0,
          0,
          0,
          0,
          0,
          0,
          0,
          0,
          0,
          0,
          0,
          0,
          0,
          0,
          0,
          0,
          0,
          0,
          0,
          0
         ],
         "yaxis": "y"
        },
        {
         "line": {
          "color": "#19D3F3"
         },
         "mode": "lines",
         "name": "Energy Sold (KwH)",
         "type": "scatter",
         "visible": "legendonly",
         "x": [
          "2020-01-01T00:00:00",
          "2020-01-01T01:00:00",
          "2020-01-01T02:00:00",
          "2020-01-01T03:00:00",
          "2020-01-01T04:00:00",
          "2020-01-01T05:00:00",
          "2020-01-01T06:00:00",
          "2020-01-01T07:00:00",
          "2020-01-01T08:00:00",
          "2020-01-01T09:00:00",
          "2020-01-01T10:00:00",
          "2020-01-01T11:00:00",
          "2020-01-01T12:00:00",
          "2020-01-01T13:00:00",
          "2020-01-01T14:00:00",
          "2020-01-01T15:00:00",
          "2020-01-01T16:00:00",
          "2020-01-01T17:00:00",
          "2020-01-01T18:00:00",
          "2020-01-01T19:00:00",
          "2020-01-01T20:00:00",
          "2020-01-01T21:00:00",
          "2020-01-01T22:00:00",
          "2020-01-01T23:00:00"
         ],
         "xaxis": "x",
         "y": [
          2415.237074570014,
          2358.3536913769026,
          2312.647792296087,
          2227.9674460804167,
          2127.656544466313,
          2037.9425044827915,
          1954.7615043430558,
          1883.1289131498165,
          1739.9635408914278,
          1721.4685499872612,
          1987.1311049609064,
          2151.8900086595063,
          2181.2195622966397,
          2119.878899647942,
          2086.500520609684,
          2112.1465500352674,
          2218.6114181126595,
          2295.169591375023,
          2329.860495981066,
          2289.9341189694373,
          2082.830058250728,
          2133.254377057771,
          2200.767126332625,
          2231.966114447478
         ],
         "yaxis": "y"
        }
       ],
       "layout": {
        "autosize": true,
        "template": {
         "data": {
          "bar": [
           {
            "error_x": {
             "color": "#2a3f5f"
            },
            "error_y": {
             "color": "#2a3f5f"
            },
            "marker": {
             "line": {
              "color": "#E5ECF6",
              "width": 0.5
             },
             "pattern": {
              "fillmode": "overlay",
              "size": 10,
              "solidity": 0.2
             }
            },
            "type": "bar"
           }
          ],
          "barpolar": [
           {
            "marker": {
             "line": {
              "color": "#E5ECF6",
              "width": 0.5
             },
             "pattern": {
              "fillmode": "overlay",
              "size": 10,
              "solidity": 0.2
             }
            },
            "type": "barpolar"
           }
          ],
          "carpet": [
           {
            "aaxis": {
             "endlinecolor": "#2a3f5f",
             "gridcolor": "white",
             "linecolor": "white",
             "minorgridcolor": "white",
             "startlinecolor": "#2a3f5f"
            },
            "baxis": {
             "endlinecolor": "#2a3f5f",
             "gridcolor": "white",
             "linecolor": "white",
             "minorgridcolor": "white",
             "startlinecolor": "#2a3f5f"
            },
            "type": "carpet"
           }
          ],
          "choropleth": [
           {
            "colorbar": {
             "outlinewidth": 0,
             "ticks": ""
            },
            "type": "choropleth"
           }
          ],
          "contour": [
           {
            "colorbar": {
             "outlinewidth": 0,
             "ticks": ""
            },
            "colorscale": [
             [
              0,
              "#0d0887"
             ],
             [
              0.1111111111111111,
              "#46039f"
             ],
             [
              0.2222222222222222,
              "#7201a8"
             ],
             [
              0.3333333333333333,
              "#9c179e"
             ],
             [
              0.4444444444444444,
              "#bd3786"
             ],
             [
              0.5555555555555556,
              "#d8576b"
             ],
             [
              0.6666666666666666,
              "#ed7953"
             ],
             [
              0.7777777777777778,
              "#fb9f3a"
             ],
             [
              0.8888888888888888,
              "#fdca26"
             ],
             [
              1,
              "#f0f921"
             ]
            ],
            "type": "contour"
           }
          ],
          "contourcarpet": [
           {
            "colorbar": {
             "outlinewidth": 0,
             "ticks": ""
            },
            "type": "contourcarpet"
           }
          ],
          "heatmap": [
           {
            "colorbar": {
             "outlinewidth": 0,
             "ticks": ""
            },
            "colorscale": [
             [
              0,
              "#0d0887"
             ],
             [
              0.1111111111111111,
              "#46039f"
             ],
             [
              0.2222222222222222,
              "#7201a8"
             ],
             [
              0.3333333333333333,
              "#9c179e"
             ],
             [
              0.4444444444444444,
              "#bd3786"
             ],
             [
              0.5555555555555556,
              "#d8576b"
             ],
             [
              0.6666666666666666,
              "#ed7953"
             ],
             [
              0.7777777777777778,
              "#fb9f3a"
             ],
             [
              0.8888888888888888,
              "#fdca26"
             ],
             [
              1,
              "#f0f921"
             ]
            ],
            "type": "heatmap"
           }
          ],
          "heatmapgl": [
           {
            "colorbar": {
             "outlinewidth": 0,
             "ticks": ""
            },
            "colorscale": [
             [
              0,
              "#0d0887"
             ],
             [
              0.1111111111111111,
              "#46039f"
             ],
             [
              0.2222222222222222,
              "#7201a8"
             ],
             [
              0.3333333333333333,
              "#9c179e"
             ],
             [
              0.4444444444444444,
              "#bd3786"
             ],
             [
              0.5555555555555556,
              "#d8576b"
             ],
             [
              0.6666666666666666,
              "#ed7953"
             ],
             [
              0.7777777777777778,
              "#fb9f3a"
             ],
             [
              0.8888888888888888,
              "#fdca26"
             ],
             [
              1,
              "#f0f921"
             ]
            ],
            "type": "heatmapgl"
           }
          ],
          "histogram": [
           {
            "marker": {
             "pattern": {
              "fillmode": "overlay",
              "size": 10,
              "solidity": 0.2
             }
            },
            "type": "histogram"
           }
          ],
          "histogram2d": [
           {
            "colorbar": {
             "outlinewidth": 0,
             "ticks": ""
            },
            "colorscale": [
             [
              0,
              "#0d0887"
             ],
             [
              0.1111111111111111,
              "#46039f"
             ],
             [
              0.2222222222222222,
              "#7201a8"
             ],
             [
              0.3333333333333333,
              "#9c179e"
             ],
             [
              0.4444444444444444,
              "#bd3786"
             ],
             [
              0.5555555555555556,
              "#d8576b"
             ],
             [
              0.6666666666666666,
              "#ed7953"
             ],
             [
              0.7777777777777778,
              "#fb9f3a"
             ],
             [
              0.8888888888888888,
              "#fdca26"
             ],
             [
              1,
              "#f0f921"
             ]
            ],
            "type": "histogram2d"
           }
          ],
          "histogram2dcontour": [
           {
            "colorbar": {
             "outlinewidth": 0,
             "ticks": ""
            },
            "colorscale": [
             [
              0,
              "#0d0887"
             ],
             [
              0.1111111111111111,
              "#46039f"
             ],
             [
              0.2222222222222222,
              "#7201a8"
             ],
             [
              0.3333333333333333,
              "#9c179e"
             ],
             [
              0.4444444444444444,
              "#bd3786"
             ],
             [
              0.5555555555555556,
              "#d8576b"
             ],
             [
              0.6666666666666666,
              "#ed7953"
             ],
             [
              0.7777777777777778,
              "#fb9f3a"
             ],
             [
              0.8888888888888888,
              "#fdca26"
             ],
             [
              1,
              "#f0f921"
             ]
            ],
            "type": "histogram2dcontour"
           }
          ],
          "mesh3d": [
           {
            "colorbar": {
             "outlinewidth": 0,
             "ticks": ""
            },
            "type": "mesh3d"
           }
          ],
          "parcoords": [
           {
            "line": {
             "colorbar": {
              "outlinewidth": 0,
              "ticks": ""
             }
            },
            "type": "parcoords"
           }
          ],
          "pie": [
           {
            "automargin": true,
            "type": "pie"
           }
          ],
          "scatter": [
           {
            "marker": {
             "colorbar": {
              "outlinewidth": 0,
              "ticks": ""
             }
            },
            "type": "scatter"
           }
          ],
          "scatter3d": [
           {
            "line": {
             "colorbar": {
              "outlinewidth": 0,
              "ticks": ""
             }
            },
            "marker": {
             "colorbar": {
              "outlinewidth": 0,
              "ticks": ""
             }
            },
            "type": "scatter3d"
           }
          ],
          "scattercarpet": [
           {
            "marker": {
             "colorbar": {
              "outlinewidth": 0,
              "ticks": ""
             }
            },
            "type": "scattercarpet"
           }
          ],
          "scattergeo": [
           {
            "marker": {
             "colorbar": {
              "outlinewidth": 0,
              "ticks": ""
             }
            },
            "type": "scattergeo"
           }
          ],
          "scattergl": [
           {
            "marker": {
             "colorbar": {
              "outlinewidth": 0,
              "ticks": ""
             }
            },
            "type": "scattergl"
           }
          ],
          "scattermapbox": [
           {
            "marker": {
             "colorbar": {
              "outlinewidth": 0,
              "ticks": ""
             }
            },
            "type": "scattermapbox"
           }
          ],
          "scatterpolar": [
           {
            "marker": {
             "colorbar": {
              "outlinewidth": 0,
              "ticks": ""
             }
            },
            "type": "scatterpolar"
           }
          ],
          "scatterpolargl": [
           {
            "marker": {
             "colorbar": {
              "outlinewidth": 0,
              "ticks": ""
             }
            },
            "type": "scatterpolargl"
           }
          ],
          "scatterternary": [
           {
            "marker": {
             "colorbar": {
              "outlinewidth": 0,
              "ticks": ""
             }
            },
            "type": "scatterternary"
           }
          ],
          "surface": [
           {
            "colorbar": {
             "outlinewidth": 0,
             "ticks": ""
            },
            "colorscale": [
             [
              0,
              "#0d0887"
             ],
             [
              0.1111111111111111,
              "#46039f"
             ],
             [
              0.2222222222222222,
              "#7201a8"
             ],
             [
              0.3333333333333333,
              "#9c179e"
             ],
             [
              0.4444444444444444,
              "#bd3786"
             ],
             [
              0.5555555555555556,
              "#d8576b"
             ],
             [
              0.6666666666666666,
              "#ed7953"
             ],
             [
              0.7777777777777778,
              "#fb9f3a"
             ],
             [
              0.8888888888888888,
              "#fdca26"
             ],
             [
              1,
              "#f0f921"
             ]
            ],
            "type": "surface"
           }
          ],
          "table": [
           {
            "cells": {
             "fill": {
              "color": "#EBF0F8"
             },
             "line": {
              "color": "white"
             }
            },
            "header": {
             "fill": {
              "color": "#C8D4E3"
             },
             "line": {
              "color": "white"
             }
            },
            "type": "table"
           }
          ]
         },
         "layout": {
          "annotationdefaults": {
           "arrowcolor": "#2a3f5f",
           "arrowhead": 0,
           "arrowwidth": 1
          },
          "autotypenumbers": "strict",
          "coloraxis": {
           "colorbar": {
            "outlinewidth": 0,
            "ticks": ""
           }
          },
          "colorscale": {
           "diverging": [
            [
             0,
             "#8e0152"
            ],
            [
             0.1,
             "#c51b7d"
            ],
            [
             0.2,
             "#de77ae"
            ],
            [
             0.3,
             "#f1b6da"
            ],
            [
             0.4,
             "#fde0ef"
            ],
            [
             0.5,
             "#f7f7f7"
            ],
            [
             0.6,
             "#e6f5d0"
            ],
            [
             0.7,
             "#b8e186"
            ],
            [
             0.8,
             "#7fbc41"
            ],
            [
             0.9,
             "#4d9221"
            ],
            [
             1,
             "#276419"
            ]
           ],
           "sequential": [
            [
             0,
             "#0d0887"
            ],
            [
             0.1111111111111111,
             "#46039f"
            ],
            [
             0.2222222222222222,
             "#7201a8"
            ],
            [
             0.3333333333333333,
             "#9c179e"
            ],
            [
             0.4444444444444444,
             "#bd3786"
            ],
            [
             0.5555555555555556,
             "#d8576b"
            ],
            [
             0.6666666666666666,
             "#ed7953"
            ],
            [
             0.7777777777777778,
             "#fb9f3a"
            ],
            [
             0.8888888888888888,
             "#fdca26"
            ],
            [
             1,
             "#f0f921"
            ]
           ],
           "sequentialminus": [
            [
             0,
             "#0d0887"
            ],
            [
             0.1111111111111111,
             "#46039f"
            ],
            [
             0.2222222222222222,
             "#7201a8"
            ],
            [
             0.3333333333333333,
             "#9c179e"
            ],
            [
             0.4444444444444444,
             "#bd3786"
            ],
            [
             0.5555555555555556,
             "#d8576b"
            ],
            [
             0.6666666666666666,
             "#ed7953"
            ],
            [
             0.7777777777777778,
             "#fb9f3a"
            ],
            [
             0.8888888888888888,
             "#fdca26"
            ],
            [
             1,
             "#f0f921"
            ]
           ]
          },
          "colorway": [
           "#636efa",
           "#EF553B",
           "#00cc96",
           "#ab63fa",
           "#FFA15A",
           "#19d3f3",
           "#FF6692",
           "#B6E880",
           "#FF97FF",
           "#FECB52"
          ],
          "font": {
           "color": "#2a3f5f"
          },
          "geo": {
           "bgcolor": "white",
           "lakecolor": "white",
           "landcolor": "#E5ECF6",
           "showlakes": true,
           "showland": true,
           "subunitcolor": "white"
          },
          "hoverlabel": {
           "align": "left"
          },
          "hovermode": "closest",
          "mapbox": {
           "style": "light"
          },
          "paper_bgcolor": "white",
          "plot_bgcolor": "#E5ECF6",
          "polar": {
           "angularaxis": {
            "gridcolor": "white",
            "linecolor": "white",
            "ticks": ""
           },
           "bgcolor": "#E5ECF6",
           "radialaxis": {
            "gridcolor": "white",
            "linecolor": "white",
            "ticks": ""
           }
          },
          "scene": {
           "xaxis": {
            "backgroundcolor": "#E5ECF6",
            "gridcolor": "white",
            "gridwidth": 2,
            "linecolor": "white",
            "showbackground": true,
            "ticks": "",
            "zerolinecolor": "white"
           },
           "yaxis": {
            "backgroundcolor": "#E5ECF6",
            "gridcolor": "white",
            "gridwidth": 2,
            "linecolor": "white",
            "showbackground": true,
            "ticks": "",
            "zerolinecolor": "white"
           },
           "zaxis": {
            "backgroundcolor": "#E5ECF6",
            "gridcolor": "white",
            "gridwidth": 2,
            "linecolor": "white",
            "showbackground": true,
            "ticks": "",
            "zerolinecolor": "white"
           }
          },
          "shapedefaults": {
           "line": {
            "color": "#2a3f5f"
           }
          },
          "ternary": {
           "aaxis": {
            "gridcolor": "white",
            "linecolor": "white",
            "ticks": ""
           },
           "baxis": {
            "gridcolor": "white",
            "linecolor": "white",
            "ticks": ""
           },
           "bgcolor": "#E5ECF6",
           "caxis": {
            "gridcolor": "white",
            "linecolor": "white",
            "ticks": ""
           }
          },
          "title": {
           "x": 0.05
          },
          "xaxis": {
           "automargin": true,
           "gridcolor": "white",
           "linecolor": "white",
           "ticks": "",
           "title": {
            "standoff": 15
           },
           "zerolinecolor": "white",
           "zerolinewidth": 2
          },
          "yaxis": {
           "automargin": true,
           "gridcolor": "white",
           "linecolor": "white",
           "ticks": "",
           "title": {
            "standoff": 15
           },
           "zerolinecolor": "white",
           "zerolinewidth": 2
          }
         }
        },
        "title": {
         "text": "No Grid Access"
        },
        "xaxis": {
         "anchor": "y",
         "autorange": true,
         "domain": [
          0,
          0.94
         ],
         "range": [
          "2020-01-01",
          "2020-01-01 23:00"
         ],
         "showspikes": false,
         "title": {
          "text": "Time"
         },
         "type": "date"
        },
        "yaxis": {
         "anchor": "x",
         "autorange": true,
         "domain": [
          0,
          1
         ],
         "range": [
          0.44213196065860083,
          0.6118614617291042
         ],
         "showspikes": false,
         "title": {
          "text": "<b>Energy</b> (KwH)"
         },
         "type": "linear"
        },
        "yaxis2": {
         "anchor": "x",
         "autorange": true,
         "overlaying": "y",
         "range": [
          27.993906810035842,
          44.05125448028674
         ],
         "showspikes": false,
         "side": "right",
         "title": {
          "text": "<b>Efficiency</b> (%)"
         },
         "type": "linear"
        }
       }
      },
      "image/png": "[encoded data removed]",
      "text/html": [
       "<div>                            <div id=\"be5fbcac-8c63-490e-9486-310dc8f55db6\" class=\"plotly-graph-div\" style=\"height:525px; width:100%;\"></div>            <script type=\"text/javascript\">                require([\"plotly\"], function(Plotly) {                    window.PLOTLYENV=window.PLOTLYENV || {};                                    if (document.getElementById(\"be5fbcac-8c63-490e-9486-310dc8f55db6\")) {                    Plotly.newPlot(                        \"be5fbcac-8c63-490e-9486-310dc8f55db6\",                        [{\"line\":{\"color\":\"#636EFA\"},\"mode\":\"lines\",\"name\":\"Demand (KwH)\",\"type\":\"scatter\",\"x\":[\"2020-01-01T00:00:00\",\"2020-01-01T01:00:00\",\"2020-01-01T02:00:00\",\"2020-01-01T03:00:00\",\"2020-01-01T04:00:00\",\"2020-01-01T05:00:00\",\"2020-01-01T06:00:00\",\"2020-01-01T07:00:00\",\"2020-01-01T08:00:00\",\"2020-01-01T09:00:00\",\"2020-01-01T10:00:00\",\"2020-01-01T11:00:00\",\"2020-01-01T12:00:00\",\"2020-01-01T13:00:00\",\"2020-01-01T14:00:00\",\"2020-01-01T15:00:00\",\"2020-01-01T16:00:00\",\"2020-01-01T17:00:00\",\"2020-01-01T18:00:00\",\"2020-01-01T19:00:00\",\"2020-01-01T20:00:00\",\"2020-01-01T21:00:00\",\"2020-01-01T22:00:00\",\"2020-01-01T23:00:00\"],\"xaxis\":\"x\",\"y\":[0.490022204180034,0.466953784387657,0.454788349074264,0.450618435712126,0.451842630460643,0.465882613982704,0.505592431137741,0.571086850183429,0.602265560184735,0.578546786932208,0.543733748771241,0.524184888880851,0.515921574328358,0.513358416573649,0.519479390316237,0.529578996991507,0.54729156475912,0.571698947557688,0.603374986675579,0.598784256368638,0.582563675950781,0.56133154828118,0.533328093408842,0.496984811812227],\"yaxis\":\"y\"},{\"line\":{\"color\":\"#EF553B\"},\"mode\":\"lines\",\"name\":\"Solar Efficiency (%)\",\"type\":\"scatter\",\"x\":[\"2020-01-01T00:00:00\",\"2020-01-01T01:00:00\",\"2020-01-01T02:00:00\",\"2020-01-01T03:00:00\",\"2020-01-01T04:00:00\",\"2020-01-01T05:00:00\",\"2020-01-01T06:00:00\",\"2020-01-01T07:00:00\",\"2020-01-01T08:00:00\",\"2020-01-01T09:00:00\",\"2020-01-01T10:00:00\",\"2020-01-01T11:00:00\",\"2020-01-01T12:00:00\",\"2020-01-01T13:00:00\",\"2020-01-01T14:00:00\",\"2020-01-01T15:00:00\",\"2020-01-01T16:00:00\",\"2020-01-01T17:00:00\",\"2020-01-01T18:00:00\",\"2020-01-01T19:00:00\",\"2020-01-01T20:00:00\",\"2020-01-01T21:00:00\",\"2020-01-01T22:00:00\",\"2020-01-01T23:00:00\"],\"xaxis\":\"x\",\"y\":[0.0,0.0,0.0,0.0,0.0,0.0,0.0,5.209677419354838,20.496774193548386,34.62903225806451,41.84193548387098,43.883870967741935,41.23225806451614,31.96774193548387,19.816129032258058,6.432258064516128,0.012903225806451613,0.0,0.0,0.0,0.0,0.0,0.0,0.0],\"yaxis\":\"y2\"},{\"line\":{\"color\":\"#00CC96\"},\"mode\":\"lines\",\"name\":\"Wind Efficiency (%)\",\"type\":\"scatter\",\"x\":[\"2020-01-01T00:00:00\",\"2020-01-01T01:00:00\",\"2020-01-01T02:00:00\",\"2020-01-01T03:00:00\",\"2020-01-01T04:00:00\",\"2020-01-01T05:00:00\",\"2020-01-01T06:00:00\",\"2020-01-01T07:00:00\",\"2020-01-01T08:00:00\",\"2020-01-01T09:00:00\",\"2020-01-01T10:00:00\",\"2020-01-01T11:00:00\",\"2020-01-01T12:00:00\",\"2020-01-01T13:00:00\",\"2020-01-01T14:00:00\",\"2020-01-01T15:00:00\",\"2020-01-01T16:00:00\",\"2020-01-01T17:00:00\",\"2020-01-01T18:00:00\",\"2020-01-01T19:00:00\",\"2020-01-01T20:00:00\",\"2020-01-01T21:00:00\",\"2020-01-01T22:00:00\",\"2020-01-01T23:00:00\"],\"xaxis\":\"x\",\"y\":[40.396774193548396,39.44516129032258,38.68064516129032,37.26451612903225,35.58709677419355,34.08709677419355,32.696774193548386,31.5,29.10645161290322,28.796774193548387,33.23870967741936,35.99354838709677,36.483870967741936,35.45806451612903,34.9,35.32903225806453,37.10967741935483,38.39032258064516,38.97096774193548,38.30322580645161,38.251612903225805,40.638709677419364,43.248387096774195,43.22258064516128],\"yaxis\":\"y2\"},{\"line\":{\"color\":\"#AB63FA\"},\"mode\":\"lines\",\"name\":\"Capacity (KwH)\",\"type\":\"scatter\",\"x\":[\"2020-01-01T00:00:00\",\"2020-01-01T01:00:00\",\"2020-01-01T02:00:00\",\"2020-01-01T03:00:00\",\"2020-01-01T04:00:00\",\"2020-01-01T05:00:00\",\"2020-01-01T06:00:00\",\"2020-01-01T07:00:00\",\"2020-01-01T08:00:00\",\"2020-01-01T09:00:00\",\"2020-01-01T10:00:00\",\"2020-01-01T11:00:00\",\"2020-01-01T12:00:00\",\"2020-01-01T13:00:00\",\"2020-01-01T14:00:00\",\"2020-01-01T15:00:00\",\"2020-01-01T16:00:00\",\"2020-01-01T17:00:00\",\"2020-01-01T18:00:00\",\"2020-01-01T19:00:00\",\"2020-01-01T20:00:00\",\"2020-01-01T21:00:00\",\"2020-01-01T22:00:00\",\"2020-01-01T23:00:00\"],\"xaxis\":\"x\",\"y\":[2415.7270967741943,2358.82064516129,2313.102580645161,2228.4180645161287,2128.108387096774,2038.4083870967743,1955.2670967741933,1883.7,1740.5658064516126,1722.0470967741935,1987.6748387096777,2152.414193548387,2181.735483870968,2120.3922580645158,2087.02,2112.676129032259,2219.1587096774188,2295.741290322581,2330.4638709677415,2290.532903225806,2287.4464516129033,2430.194838709678,2586.2535483870965,2584.7103225806445],\"yaxis\":\"y\"},{\"line\":{\"color\":\"#FFA15A\"},\"mode\":\"lines\",\"name\":\"Storage Level (KwH)\",\"type\":\"scatter\",\"x\":[\"2020-01-01T00:00:00\",\"2020-01-01T01:00:00\",\"2020-01-01T02:00:00\",\"2020-01-01T03:00:00\",\"2020-01-01T04:00:00\",\"2020-01-01T05:00:00\",\"2020-01-01T06:00:00\",\"2020-01-01T07:00:00\",\"2020-01-01T08:00:00\",\"2020-01-01T09:00:00\",\"2020-01-01T10:00:00\",\"2020-01-01T11:00:00\",\"2020-01-01T12:00:00\",\"2020-01-01T13:00:00\",\"2020-01-01T14:00:00\",\"2020-01-01T15:00:00\",\"2020-01-01T16:00:00\",\"2020-01-01T17:00:00\",\"2020-01-01T18:00:00\",\"2020-01-01T19:00:00\",\"2020-01-01T20:00:00\",\"2020-01-01T21:00:00\",\"2020-01-01T22:00:00\",\"2020-01-01T23:00:00\"],\"xaxis\":\"x\",\"y\":[0.0,0.0,0.0,0.0,0.0,0.0,0.0,0.0,0.0,0.0,0.0,0.0,0.0,0.0,0.0,0.0,0.0,0.0,0.0,0.0,0.0,0.0,0.0,0.0],\"yaxis\":\"y\"},{\"line\":{\"color\":\"#19D3F3\"},\"mode\":\"lines\",\"name\":\"Energy Sold (KwH)\",\"type\":\"scatter\",\"x\":[\"2020-01-01T00:00:00\",\"2020-01-01T01:00:00\",\"2020-01-01T02:00:00\",\"2020-01-01T03:00:00\",\"2020-01-01T04:00:00\",\"2020-01-01T05:00:00\",\"2020-01-01T06:00:00\",\"2020-01-01T07:00:00\",\"2020-01-01T08:00:00\",\"2020-01-01T09:00:00\",\"2020-01-01T10:00:00\",\"2020-01-01T11:00:00\",\"2020-01-01T12:00:00\",\"2020-01-01T13:00:00\",\"2020-01-01T14:00:00\",\"2020-01-01T15:00:00\",\"2020-01-01T16:00:00\",\"2020-01-01T17:00:00\",\"2020-01-01T18:00:00\",\"2020-01-01T19:00:00\",\"2020-01-01T20:00:00\",\"2020-01-01T21:00:00\",\"2020-01-01T22:00:00\",\"2020-01-01T23:00:00\"],\"xaxis\":\"x\",\"y\":[2415.237074570014,2358.3536913769026,2312.647792296087,2227.9674460804167,2127.656544466313,2037.9425044827915,1954.7615043430558,1883.1289131498165,1739.9635408914278,1721.4685499872612,1987.1311049609064,2151.8900086595063,2181.2195622966397,2119.878899647942,2086.500520609684,2112.1465500352674,2218.6114181126595,2295.169591375023,2329.860495981066,2289.9341189694373,2082.830058250728,2133.254377057771,2200.767126332625,2231.966114447478],\"yaxis\":\"y\"}],                        {\"template\":{\"data\":{\"bar\":[{\"error_x\":{\"color\":\"#2a3f5f\"},\"error_y\":{\"color\":\"#2a3f5f\"},\"marker\":{\"line\":{\"color\":\"#E5ECF6\",\"width\":0.5},\"pattern\":{\"fillmode\":\"overlay\",\"size\":10,\"solidity\":0.2}},\"type\":\"bar\"}],\"barpolar\":[{\"marker\":{\"line\":{\"color\":\"#E5ECF6\",\"width\":0.5},\"pattern\":{\"fillmode\":\"overlay\",\"size\":10,\"solidity\":0.2}},\"type\":\"barpolar\"}],\"carpet\":[{\"aaxis\":{\"endlinecolor\":\"#2a3f5f\",\"gridcolor\":\"white\",\"linecolor\":\"white\",\"minorgridcolor\":\"white\",\"startlinecolor\":\"#2a3f5f\"},\"baxis\":{\"endlinecolor\":\"#2a3f5f\",\"gridcolor\":\"white\",\"linecolor\":\"white\",\"minorgridcolor\":\"white\",\"startlinecolor\":\"#2a3f5f\"},\"type\":\"carpet\"}],\"choropleth\":[{\"colorbar\":{\"outlinewidth\":0,\"ticks\":\"\"},\"type\":\"choropleth\"}],\"contour\":[{\"colorbar\":{\"outlinewidth\":0,\"ticks\":\"\"},\"colorscale\":[[0.0,\"#0d0887\"],[0.1111111111111111,\"#46039f\"],[0.2222222222222222,\"#7201a8\"],[0.3333333333333333,\"#9c179e\"],[0.4444444444444444,\"#bd3786\"],[0.5555555555555556,\"#d8576b\"],[0.6666666666666666,\"#ed7953\"],[0.7777777777777778,\"#fb9f3a\"],[0.8888888888888888,\"#fdca26\"],[1.0,\"#f0f921\"]],\"type\":\"contour\"}],\"contourcarpet\":[{\"colorbar\":{\"outlinewidth\":0,\"ticks\":\"\"},\"type\":\"contourcarpet\"}],\"heatmap\":[{\"colorbar\":{\"outlinewidth\":0,\"ticks\":\"\"},\"colorscale\":[[0.0,\"#0d0887\"],[0.1111111111111111,\"#46039f\"],[0.2222222222222222,\"#7201a8\"],[0.3333333333333333,\"#9c179e\"],[0.4444444444444444,\"#bd3786\"],[0.5555555555555556,\"#d8576b\"],[0.6666666666666666,\"#ed7953\"],[0.7777777777777778,\"#fb9f3a\"],[0.8888888888888888,\"#fdca26\"],[1.0,\"#f0f921\"]],\"type\":\"heatmap\"}],\"heatmapgl\":[{\"colorbar\":{\"outlinewidth\":0,\"ticks\":\"\"},\"colorscale\":[[0.0,\"#0d0887\"],[0.1111111111111111,\"#46039f\"],[0.2222222222222222,\"#7201a8\"],[0.3333333333333333,\"#9c179e\"],[0.4444444444444444,\"#bd3786\"],[0.5555555555555556,\"#d8576b\"],[0.6666666666666666,\"#ed7953\"],[0.7777777777777778,\"#fb9f3a\"],[0.8888888888888888,\"#fdca26\"],[1.0,\"#f0f921\"]],\"type\":\"heatmapgl\"}],\"histogram\":[{\"marker\":{\"pattern\":{\"fillmode\":\"overlay\",\"size\":10,\"solidity\":0.2}},\"type\":\"histogram\"}],\"histogram2d\":[{\"colorbar\":{\"outlinewidth\":0,\"ticks\":\"\"},\"colorscale\":[[0.0,\"#0d0887\"],[0.1111111111111111,\"#46039f\"],[0.2222222222222222,\"#7201a8\"],[0.3333333333333333,\"#9c179e\"],[0.4444444444444444,\"#bd3786\"],[0.5555555555555556,\"#d8576b\"],[0.6666666666666666,\"#ed7953\"],[0.7777777777777778,\"#fb9f3a\"],[0.8888888888888888,\"#fdca26\"],[1.0,\"#f0f921\"]],\"type\":\"histogram2d\"}],\"histogram2dcontour\":[{\"colorbar\":{\"outlinewidth\":0,\"ticks\":\"\"},\"colorscale\":[[0.0,\"#0d0887\"],[0.1111111111111111,\"#46039f\"],[0.2222222222222222,\"#7201a8\"],[0.3333333333333333,\"#9c179e\"],[0.4444444444444444,\"#bd3786\"],[0.5555555555555556,\"#d8576b\"],[0.6666666666666666,\"#ed7953\"],[0.7777777777777778,\"#fb9f3a\"],[0.8888888888888888,\"#fdca26\"],[1.0,\"#f0f921\"]],\"type\":\"histogram2dcontour\"}],\"mesh3d\":[{\"colorbar\":{\"outlinewidth\":0,\"ticks\":\"\"},\"type\":\"mesh3d\"}],\"parcoords\":[{\"line\":{\"colorbar\":{\"outlinewidth\":0,\"ticks\":\"\"}},\"type\":\"parcoords\"}],\"pie\":[{\"automargin\":true,\"type\":\"pie\"}],\"scatter\":[{\"marker\":{\"colorbar\":{\"outlinewidth\":0,\"ticks\":\"\"}},\"type\":\"scatter\"}],\"scatter3d\":[{\"line\":{\"colorbar\":{\"outlinewidth\":0,\"ticks\":\"\"}},\"marker\":{\"colorbar\":{\"outlinewidth\":0,\"ticks\":\"\"}},\"type\":\"scatter3d\"}],\"scattercarpet\":[{\"marker\":{\"colorbar\":{\"outlinewidth\":0,\"ticks\":\"\"}},\"type\":\"scattercarpet\"}],\"scattergeo\":[{\"marker\":{\"colorbar\":{\"outlinewidth\":0,\"ticks\":\"\"}},\"type\":\"scattergeo\"}],\"scattergl\":[{\"marker\":{\"colorbar\":{\"outlinewidth\":0,\"ticks\":\"\"}},\"type\":\"scattergl\"}],\"scattermapbox\":[{\"marker\":{\"colorbar\":{\"outlinewidth\":0,\"ticks\":\"\"}},\"type\":\"scattermapbox\"}],\"scatterpolar\":[{\"marker\":{\"colorbar\":{\"outlinewidth\":0,\"ticks\":\"\"}},\"type\":\"scatterpolar\"}],\"scatterpolargl\":[{\"marker\":{\"colorbar\":{\"outlinewidth\":0,\"ticks\":\"\"}},\"type\":\"scatterpolargl\"}],\"scatterternary\":[{\"marker\":{\"colorbar\":{\"outlinewidth\":0,\"ticks\":\"\"}},\"type\":\"scatterternary\"}],\"surface\":[{\"colorbar\":{\"outlinewidth\":0,\"ticks\":\"\"},\"colorscale\":[[0.0,\"#0d0887\"],[0.1111111111111111,\"#46039f\"],[0.2222222222222222,\"#7201a8\"],[0.3333333333333333,\"#9c179e\"],[0.4444444444444444,\"#bd3786\"],[0.5555555555555556,\"#d8576b\"],[0.6666666666666666,\"#ed7953\"],[0.7777777777777778,\"#fb9f3a\"],[0.8888888888888888,\"#fdca26\"],[1.0,\"#f0f921\"]],\"type\":\"surface\"}],\"table\":[{\"cells\":{\"fill\":{\"color\":\"#EBF0F8\"},\"line\":{\"color\":\"white\"}},\"header\":{\"fill\":{\"color\":\"#C8D4E3\"},\"line\":{\"color\":\"white\"}},\"type\":\"table\"}]},\"layout\":{\"annotationdefaults\":{\"arrowcolor\":\"#2a3f5f\",\"arrowhead\":0,\"arrowwidth\":1},\"autotypenumbers\":\"strict\",\"coloraxis\":{\"colorbar\":{\"outlinewidth\":0,\"ticks\":\"\"}},\"colorscale\":{\"diverging\":[[0,\"#8e0152\"],[0.1,\"#c51b7d\"],[0.2,\"#de77ae\"],[0.3,\"#f1b6da\"],[0.4,\"#fde0ef\"],[0.5,\"#f7f7f7\"],[0.6,\"#e6f5d0\"],[0.7,\"#b8e186\"],[0.8,\"#7fbc41\"],[0.9,\"#4d9221\"],[1,\"#276419\"]],\"sequential\":[[0.0,\"#0d0887\"],[0.1111111111111111,\"#46039f\"],[0.2222222222222222,\"#7201a8\"],[0.3333333333333333,\"#9c179e\"],[0.4444444444444444,\"#bd3786\"],[0.5555555555555556,\"#d8576b\"],[0.6666666666666666,\"#ed7953\"],[0.7777777777777778,\"#fb9f3a\"],[0.8888888888888888,\"#fdca26\"],[1.0,\"#f0f921\"]],\"sequentialminus\":[[0.0,\"#0d0887\"],[0.1111111111111111,\"#46039f\"],[0.2222222222222222,\"#7201a8\"],[0.3333333333333333,\"#9c179e\"],[0.4444444444444444,\"#bd3786\"],[0.5555555555555556,\"#d8576b\"],[0.6666666666666666,\"#ed7953\"],[0.7777777777777778,\"#fb9f3a\"],[0.8888888888888888,\"#fdca26\"],[1.0,\"#f0f921\"]]},\"colorway\":[\"#636efa\",\"#EF553B\",\"#00cc96\",\"#ab63fa\",\"#FFA15A\",\"#19d3f3\",\"#FF6692\",\"#B6E880\",\"#FF97FF\",\"#FECB52\"],\"font\":{\"color\":\"#2a3f5f\"},\"geo\":{\"bgcolor\":\"white\",\"lakecolor\":\"white\",\"landcolor\":\"#E5ECF6\",\"showlakes\":true,\"showland\":true,\"subunitcolor\":\"white\"},\"hoverlabel\":{\"align\":\"left\"},\"hovermode\":\"closest\",\"mapbox\":{\"style\":\"light\"},\"paper_bgcolor\":\"white\",\"plot_bgcolor\":\"#E5ECF6\",\"polar\":{\"angularaxis\":{\"gridcolor\":\"white\",\"linecolor\":\"white\",\"ticks\":\"\"},\"bgcolor\":\"#E5ECF6\",\"radialaxis\":{\"gridcolor\":\"white\",\"linecolor\":\"white\",\"ticks\":\"\"}},\"scene\":{\"xaxis\":{\"backgroundcolor\":\"#E5ECF6\",\"gridcolor\":\"white\",\"gridwidth\":2,\"linecolor\":\"white\",\"showbackground\":true,\"ticks\":\"\",\"zerolinecolor\":\"white\"},\"yaxis\":{\"backgroundcolor\":\"#E5ECF6\",\"gridcolor\":\"white\",\"gridwidth\":2,\"linecolor\":\"white\",\"showbackground\":true,\"ticks\":\"\",\"zerolinecolor\":\"white\"},\"zaxis\":{\"backgroundcolor\":\"#E5ECF6\",\"gridcolor\":\"white\",\"gridwidth\":2,\"linecolor\":\"white\",\"showbackground\":true,\"ticks\":\"\",\"zerolinecolor\":\"white\"}},\"shapedefaults\":{\"line\":{\"color\":\"#2a3f5f\"}},\"ternary\":{\"aaxis\":{\"gridcolor\":\"white\",\"linecolor\":\"white\",\"ticks\":\"\"},\"baxis\":{\"gridcolor\":\"white\",\"linecolor\":\"white\",\"ticks\":\"\"},\"bgcolor\":\"#E5ECF6\",\"caxis\":{\"gridcolor\":\"white\",\"linecolor\":\"white\",\"ticks\":\"\"}},\"title\":{\"x\":0.05},\"xaxis\":{\"automargin\":true,\"gridcolor\":\"white\",\"linecolor\":\"white\",\"ticks\":\"\",\"title\":{\"standoff\":15},\"zerolinecolor\":\"white\",\"zerolinewidth\":2},\"yaxis\":{\"automargin\":true,\"gridcolor\":\"white\",\"linecolor\":\"white\",\"ticks\":\"\",\"title\":{\"standoff\":15},\"zerolinecolor\":\"white\",\"zerolinewidth\":2}}},\"title\":{\"text\":\"No Grid Access\"},\"xaxis\":{\"anchor\":\"y\",\"domain\":[0.0,0.94],\"title\":{\"text\":\"Time\"}},\"yaxis\":{\"anchor\":\"x\",\"domain\":[0.0,1.0],\"title\":{\"text\":\"<b>Energy</b> (KwH)\"}},\"yaxis2\":{\"anchor\":\"x\",\"overlaying\":\"y\",\"side\":\"right\",\"title\":{\"text\":\"<b>Efficiency</b> (%)\"}}},                        {\"responsive\": true}                    ).then(function(){\n",
       "                            \n",
       "var gd = document.getElementById('be5fbcac-8c63-490e-9486-310dc8f55db6');\n",
       "var x = new MutationObserver(function (mutations, observer) {{\n",
       "        var display = window.getComputedStyle(gd).display;\n",
       "        if (!display || display === 'none') {{\n",
       "            console.log([gd, 'removed!']);\n",
       "            Plotly.purge(gd);\n",
       "            observer.disconnect();\n",
       "        }}\n",
       "}});\n",
       "\n",
       "// Listen for the removal of the full notebook cells\n",
       "var notebookContainer = gd.closest('#notebook-container');\n",
       "if (notebookContainer) {{\n",
       "    x.observe(notebookContainer, {childList: true});\n",
       "}}\n",
       "\n",
       "// Listen for the clearing of the current output cell\n",
       "var outputEl = gd.closest('.output');\n",
       "if (outputEl) {{\n",
       "    x.observe(outputEl, {childList: true});\n",
       "}}\n",
       "\n",
       "                        })                };                });            </script>        </div>"
      ]
     },
     "metadata": {},
     "output_type": "display_data"
    }
   ],
   "source": [
    "import numpy as np\n",
    "import pandas as pd\n",
    "import plotly.express as px\n",
    "import plotly.graph_objects as go\n",
    "from plotly.subplots import make_subplots\n",
    "\n",
    "# dataframe of a wide format\n",
    "df = ogo.project.results_df()\n",
    "\n",
    "df = df[df['month'] == 1]\n",
    "# plotly.graph_objects\n",
    "colors = px.colors.qualitative.Plotly\n",
    "fig = make_subplots(specs=[[{\"secondary_y\": True}]])\n",
    "fig.add_trace(go.Scatter(x=df['date'], y = df['demand'], mode = 'lines', line=dict(color=colors[0]), name='Demand (KwH)'), secondary_y=False)\n",
    "fig.add_trace(go.Scatter(x=df['date'], y = df['pv_efficiency'] * 100, mode = 'lines', line=dict(color=colors[1]),\n",
    "              name='Solar Efficiency (%)'),\n",
    "              secondary_y=True)\n",
    "fig.add_trace(go.Scatter(x=df['date'], y = df['wind_efficiency'] * 100, mode = 'lines', line=dict(color=colors[2]), \n",
    "              name='Wind Efficiency (%)'),\n",
    "              secondary_y=True)\n",
    "fig.add_trace(go.Scatter(x=df['date'], y = df['capacity'], mode = 'lines', line=dict(color=colors[3]), \n",
    "              name='Capacity (KwH)'),\n",
    "              secondary_y=False)\n",
    "fig.add_trace(go.Scatter(x=df['date'], y = df['storage_level'], mode = 'lines', line=dict(color=colors[4]), \n",
    "              name='Storage Level (KwH)'),\n",
    "              secondary_y=False)\n",
    "fig.add_trace(go.Scatter(x=df['date'], y = df['energy_sold'], mode = 'lines', line=dict(color=colors[5]), \n",
    "              name='Energy Sold (KwH)'),\n",
    "              secondary_y=False)\n",
    "fig.update_layout(title_text=\"No Grid Access\")\n",
    "fig.update_xaxes(title_text=\"Time\")\n",
    "fig.update_yaxes(title_text=\"<b>Energy</b> (KwH)\", secondary_y=False)\n",
    "fig.update_yaxes(title_text=\"<b>Efficiency</b> (%)\", secondary_y=True)\n",
    "\n",
    "fig.show()"
   ]
  },
  {
   "cell_type": "code",
   "execution_count": 3,
   "metadata": {},
   "outputs": [
    {
     "name": "stdout",
     "output_type": "stream",
     "text": [
      "True\n"
     ]
    },
    {
     "data": {
      "text/plain": [
       "1.0"
      ]
     },
     "execution_count": 3,
     "metadata": {},
     "output_type": "execute_result"
    }
   ],
   "source": [
    "print(ogo.project.grid.allow_grid)\n",
    "ogo.project.grid.grid_installed.x"
   ]
  },
  {
   "cell_type": "code",
   "execution_count": 4,
   "metadata": {},
   "outputs": [],
   "source": [
    "import pandas as pd\n",
    "import plotly.graph_objects as go"
   ]
  },
  {
   "cell_type": "code",
   "execution_count": 5,
   "metadata": {},
   "outputs": [],
   "source": [
    "# # Configure functions to automate the data collection process\n",
    "\n",
    "# # getStocks requires three variables:\n",
    "# # - stocks is a list of strings which are the code for the stock\n",
    "# # - history is timeframe of how much of the stock data is desired\n",
    "# # - attribute is the attribute of the stock \n",
    "# def getStocks(stocks, history, attribute):\n",
    "#     return pd.DataFrame({stock:yf.Ticker(stock).history(period=history)[attribute] for stock in stocks})\n",
    "\n",
    "# # multi_plot requires two variables:\n",
    "# # - df is a dataframe with stocks as columns and rows as date of the stock price\n",
    "# # - addAll is to have a dropdown button to display all stocks at once\n",
    "# def multi_plot(df, addAll = True):\n",
    "#     fig = go.Figure()\n",
    "\n",
    "#     for column in df.columns.to_list():\n",
    "#         fig.add_trace(\n",
    "#             go.Scatter(\n",
    "#                 x = df.index,\n",
    "#                 y = df[column],\n",
    "#                 name = column\n",
    "#             )\n",
    "#         )\n",
    "\n",
    "#     button_all = dict(label = 'All',\n",
    "#                       method = 'update',\n",
    "#                       args = [{'visible': df.columns.isin(df.columns),\n",
    "#                                'title': 'All',\n",
    "#                                'showlegend':True}])\n",
    "\n",
    "#     def create_layout_button(column):\n",
    "#         return dict(label = column,\n",
    "#                     method = 'update',\n",
    "#                     args = [{'visible': df.columns.isin([column]),\n",
    "#                              'title': column,\n",
    "#                              'showlegend': True}])\n",
    "\n",
    "#     fig.update_layout(\n",
    "#         updatemenus=[go.layout.Updatemenu(\n",
    "#             active = 0,\n",
    "#             buttons = ([button_all] * addAll) + list(df.columns.map(lambda column: create_layout_button(column)))\n",
    "#             )\n",
    "#         ])\n",
    "    \n",
    "#     fig.show()"
   ]
  },
  {
   "cell_type": "code",
   "execution_count": null,
   "metadata": {},
   "outputs": [],
   "source": []
  }
 ],
 "metadata": {
  "kernelspec": {
   "display_name": "Python 3 (ipykernel)",
   "language": "python",
   "name": "python3"
  },
  "language_info": {
   "codemirror_mode": {
    "name": "ipython",
    "version": 3
   },
   "file_extension": ".py",
   "mimetype": "text/x-python",
   "name": "python",
   "nbconvert_exporter": "python",
   "pygments_lexer": "ipython3",
   "version": "3.8.10"
  }
 },
 "nbformat": 4,
 "nbformat_minor": 4
}
