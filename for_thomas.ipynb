{
 "cells": [
  {
   "cell_type": "markdown",
   "metadata": {},
   "source": [
    "## Theoretical Formulation"
   ]
  },
  {
   "cell_type": "markdown",
   "metadata": {},
   "source": [
    "### A. Demand\n",
    "Let $m$ := be the month of the year where $m \\in M$ where $M = \\{{1, 2, 3, 4, 5, 6, 7, 8, 9, 10, 11, 12}\\}$\n",
    "\n",
    "Let $h$ := be the hour of the day where $h \\in H$ where $H = \\{{0, 1, 2, 3, 4, 5, 6, 7, 8, 9, 10, 11, 12, 13, 14, 15, 16, 17, 18, 19, 20, 21, 22, 23}\\}$\n",
    "\n",
    "Let $d_{m,h}$:= be the customer electricity demand in KwH during hour $h$ in month $m$  where $d_{m,h} \\geq 0$"
   ]
  },
  {
   "cell_type": "markdown",
   "metadata": {},
   "source": [
    "### B. Power Source Parameters\n",
    "Let $j$ := be a product $j$ $\\in$ $J$ where $J = \\{{\"smallsolar\", \"largesolar\", \"smallwind\", \"largewind\", \"smallbattery\"}\\}$\n",
    "\n",
    "Let $E$ := be a set containing indices of products which generate electricity \n",
    "\n",
    "Let $S$ := be a set containing indices of products which store electricity \n",
    "\n",
    "Let $et$ := be an energy type where $et \\in T = \\{{\"solar\", \"wind\", \"storage\"}\\}$\n",
    "\n",
    "Let $ET_{et}$ := be a set containing all products of energy type $et$\n",
    "\n",
    "Let $f: J \\rightarrow ET_{et}$ := be a dictionary that maps a product $j$ to the set containing all products with the same energy type $et$\n",
    "\n",
    "Let $oc_{j}$ := be the opening cost in US dollars of installing required infrastructure for product $j$ which belongs to an energy type $et$\n",
    "\n",
    "Let $ic_j$ := be the incremental cost in US dollars of opening up an additional unit of a specific product $j$ where $ic_j \\geq 0$\n",
    "\n",
    "Let $mc_j$ := be the monthly cost in US dollars of maintaining one unit of product $j$ where $mc_j \\geq 0$\n",
    "\n",
    "Let $\\rho_{m,h,j}$ := be the efficiency of product $j$ during hour $h$ in month $m$ where $\\rho_{m,h,j}$ is continuous from 0 to 1\n",
    "\n",
    "Let $c_{j}$ := be the capacity of product $j$ in KwH if it generates or stores electricity\n",
    "\n",
    "Let $gc_{m,h}$ := be the cost of on-grid power in units of dollers per kilowatt hour\n",
    "\n",
    "Let $gp_{m,h}$ := be the price of energy when you sell to the grid in units of dollers per kilowatt hour"
   ]
  },
  {
   "cell_type": "markdown",
   "metadata": {},
   "source": [
    "### C. Decision Variables\n",
    "Let $x_j$ := be a binary variable representing whether or not the opening cost of $j$'s energy type is paid for where $x_j \\in$ {0,1}\n",
    "\n",
    "Let $y_{j}$ := be an integer variable representing the number of units of product $j$ where $y_j \\geq$ 0\n",
    "\n",
    "Let $g_{m,h}$ := be the continuous variable that represents the amount of power needed from the grid in kilowatt-hours during hour $h$ in month $m$.\n",
    "\n",
    "Let $gi_{m,h}$ := be the binary variable that represents whether the project is connected to the grid.\n",
    "\n",
    "Let $es_{m,h,j}$ := be the continuous variable that represents the amount of energy stored by product $j$ (note: not all products can store energy)\n",
    "\n",
    "Let $sc_{m,h,j}$ := be the continuous variable that represents the amount of stored consumed from product $j$ (note: not all products can store energy)\n",
    "\n",
    "Let $ss_{m,h}$ := be the continuous variable that represents the amount of energy sold during hour $h$ in month $m$"
   ]
  },
  {
   "cell_type": "markdown",
   "metadata": {},
   "source": [
    "### D. Calculated Variables\n",
    "\n",
    "Let $ES_{m,h}$ := be the total energy stored this year through month $m$ and hour $h$ calculated by summing cumulative the energy stored each hour for all products $\\sum_{j \\in J} es_{m,h,j}$\n",
    "\n",
    "Let $SC_{m,h}$ := be the total storage consumed this year through month $m$ and hour $h$ calculated by summing the cumulative energy consumed each hour for all products $\\sum_{j \\in J} sc_{m,h,j}$\n",
    "\n",
    "Let $TT$ := be the total energy storage of the system calculated by summing the capacity of all products $\\sum_{j \\in J} c_{j}y_{j}$\n",
    "\n",
    "Let $SS_{m,h}$ := be the total energy sold this year through month $m$ and hour $h$ calculated by summing the cumulative energy sold each hour $\\sum ss_{m,h}$\n",
    "\n",
    "Let $TR$ := be the total revenue this year calculated by summing energy sold each hour $\\sum ss_{m,h}gp_{m,h}$\n"
   ]
  },
  {
   "cell_type": "markdown",
   "metadata": {},
   "source": [
    "### E. Objective Function\n",
    "We want to minimize the cost; therefore, the objective function is the sum of the three kinds of costs:\n",
    "\n",
    "    a) opening cost (oc) the cost of initially setting up a new service\n",
    "\n",
    "    b) incremental cost (ic)\n",
    "    \n",
    "    c) monthly cost (mc)\n",
    "\n",
    "    d) grid monthly cost (g)\n",
    "\n",
    "$$\\min \\sum_{j \\in J} oc_{j}x_j + \\sum_{j \\in J} ic_jy_j + \\sum_{j \\in J} mc_{j}y_{j}  + \\sum_{m \\in M} \\sum_{h \\in H} g_{m,h} + gi * -TR + (1 - gi) * RT$$ "
   ]
  },
  {
   "cell_type": "markdown",
   "metadata": {},
   "source": [
    "### F. Constraints\n",
    "\n",
    "##### Demand Constraints\n",
    "1) Meet customer demand for electricity per hour per month by summing the energy generation products ($E$) output, the stored energy ($S$) available, and grid power ($g$) available\n",
    "\n",
    "$$\\forall m \\in M, \\forall h \\in H:  \\sum_{j\\in E} \\rho_{m,h,j} y_{j} + \\sum_{j\\in S}sc_{m,h,j} + g_{m,h} \\geq d_{m,h}$$\n",
    "\n",
    "##### Budget Constraints\n",
    "2) You have an initial budget of the amount of capital you have on hand to shell out for initial set up.\n",
    "$$  \\sum_{j \\in J} oc_{j}x_j + \\sum_{j \\in J} ic_jy_j \\leq $200,000 $$\n",
    "\n",
    "3) You also have a monthly budget.\n",
    "$$ \\sum_{j \\in J} mc_{j}y_{j} \\leq $500 $$\n",
    "\n",
    "##### Set up and Installation Constraints\n",
    "4) Ensure at least 1 $x_j$ per energy type is 1 when any $y_j$ of the energy type is $\\geq 1$\n",
    "\n",
    "$$ \\forall j \\in ET_{solar}: \\sum_{j' \\in ET_{solar}} x_{j'} * M >= y_{j}$$\n",
    "\n",
    "$$ \\forall j \\in ET_{wind}: \\sum_{j' \\in ET_{wind}} x_{j'} * M >= y_{j}$$\n",
    "\n",
    "$$ \\forall j \\in ET_{storage}: \\sum_{j' \\in ET_{storage}} x_{j'} * M >= y_{j}$$\n",
    "\n",
    "$$ gi * M >= \\sum gc_{m,h}$$\n",
    "\n",
    "\n",
    "5) Ensure that at most 1 $x_j$ per energy type is equal to 1\n",
    "\n",
    "$$ \\forall et \\in ET: \\sum_{j\\in ET_{et}}x_j \\leq 1$$\n",
    "\n",
    "##### Storage Constraints\n",
    "6) Total storage consumed at hour $h$ during month $m$ cannot exceed electricity stored\n",
    "\n",
    "$$ \\forall m \\in M, \\forall h \\in H\\space: SC_{m,h} + SS_{m,h} \\leq ES_{m,h} $$ \n",
    "\n",
    "7) Storage available at hour $h$ during month $m$ cannot exceed total storage capacity\n",
    "\n",
    "$$ \\forall m \\in M, \\forall h \\in H\\space: ES_{m,h} - SC_{m,h} - SS_{m,h} \\leq TT $$\n",
    "\n",
    "8) Electricity stored at hour $h$ during month $m$ cannot exceed the sum of electricity produced, storage consumed, and grid usage minus demand at hour $h$ during month $m$ \n",
    "\n",
    "$$ \\forall m \\in M, \\forall h \\in H:\\space \\sum_{j\\in S} es_{m,h,j} \\leq \\sum_{j\\in E} \\rho_{m,h,j} y_{j} + \\sum_{j\\in S} sc_{m,h,j} + g_{m,h} - d_{m,h} $$\n",
    "\n"
   ]
  },
  {
   "cell_type": "code",
   "execution_count": null,
   "metadata": {},
   "outputs": [],
   "source": []
  }
 ],
 "metadata": {
  "kernelspec": {
   "display_name": "Python 3 (ipykernel)",
   "language": "python",
   "name": "python3"
  },
  "language_info": {
   "codemirror_mode": {
    "name": "ipython",
    "version": 3
   },
   "file_extension": ".py",
   "mimetype": "text/x-python",
   "name": "python",
   "nbconvert_exporter": "python",
   "pygments_lexer": "ipython3",
   "version": "3.8.10"
  }
 },
 "nbformat": 4,
 "nbformat_minor": 4
}
