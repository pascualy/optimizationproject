{
 "cells": [
  {
   "cell_type": "markdown",
   "metadata": {},
   "source": [
    "## Demand\n",
    "Let $i$ := be a variable representing the month of the year where $i \\in$ {1, 2, 3, 4, 5, 6, 7, 8, 9, 10, 11, 12}\n",
    "\n",
    "Let $d_{i}$:= be a variable representing the customer electricity demand for month $i$ in kilowatt-hours where $d_i \\geq 0$\n",
    "\n",
    "Let $h_{i}$ := be a variable representing the customer heat demand for month $i$ in BTU's where $h_i \\geq 0$"
   ]
  },
  {
   "cell_type": "markdown",
   "metadata": {},
   "source": [
    "## Power Sources\n",
    "Let $j$ := be a variable representing service (the source of power) where $j$ $\\in$ {1, 2, 3, 4, ....}\n",
    "\n",
    "Let $oc_j$ := be the opening cost in US dollars up initially setting up one unit of a specific service $j$ where $oc_j \\geq 0$\n",
    "\n",
    "Let $ic_j$ := be the incremental cost in US dollars of opening up an additional unit of a specific service $j$ where $ic_j \\geq 0$\n",
    "\n",
    "Let $mc_j$ := be the monthly cost in US dollars of maintaining one unit of service $j$ where $mc_j \\geq 0$\n",
    "\n",
    "Let $\\rho_{i,j}$ := be the monthly $i$ capacity one unit of service $j$ in kilowatt-hours where $\\rho_j \\geq 0$\n",
    "\n",
    "Let $zc$ := be the cost of on-grid power in units of dollers per kilowatt hour"
   ]
  },
  {
   "cell_type": "markdown",
   "metadata": {},
   "source": [
    "## Environmental Impact\n",
    "Let $ec_j$:= be the variable representing the relative environmental impact of service $j$ measured in units _______"
   ]
  },
  {
   "cell_type": "markdown",
   "metadata": {},
   "source": [
    "## Decision Variables\n",
    "Let $x_j$ := be a binary variable representing whether or not the service $j$ is being chosen to use where $x_j \\in$ {0,1}\n",
    "\n",
    "Let $y_{j}$ := be an integer variable representing the number of units of product $j$ where $y_j$ = {$y_j$:= $y_j$ is an integer, $y_j \\geq$ 0}\n",
    "\n",
    "Let $z_i$ := be the continuous variable that represents the amount of power needed from the grid in kilowatt-hours."
   ]
  },
  {
   "cell_type": "markdown",
   "metadata": {},
   "source": [
    "## Objective Function\n",
    "We want to minimize the cost; therefore, the objective function is the sum of the three kinds of costs:\n",
    "\n",
    "    a) opening cost (oc) the cost of initially setting up a new service\n",
    "\n",
    "    b) monthly cost (mc)\n",
    "\n",
    "    c) environmental cost (ec)\n",
    "\n",
    "    d) grid montly cost (zc)\n",
    "\n",
    "    e) grid environmental cost (ec_z)\n",
    "\n",
    "$$\\min \\sum_{j} oc_jx_j + \\sum_{j} ic_jy_j + \\sum_{j} mc_{j}y_{j} + \\sum_{j} ec_{j}y_{j}  + \\sum_i z_{i}zc + \\sum_i z_{i}ec_z$$"
   ]
  },
  {
   "cell_type": "markdown",
   "metadata": {},
   "source": [
    "## Constraints\n",
    "\n",
    "### Demand Constraints\n",
    "1) Meet customer demand for electricity per month\n",
    "\n",
    "$$\\forall i \\sum_{j\\in 'elec'} y_{j}\\rho_{i,j} + z_i \\geq d_i$$\n",
    "\n",
    "2) Meet customer demand for heat per month\n",
    "$$\\forall i \\sum_{j\\in 'heat'} y_{j}\\rho_{i,j} + z_i \\geq h_i$$\n",
    "\n",
    "3) You have an initial budget of the amount of capital you have on hand to shell out for initial set up.\n",
    "$$  \\sum_{j} oc_jx_j + \\sum_{j} ic_jy_j \\leq $200,000 $$\n",
    "\n",
    "4) You also have a monthly budget.\n",
    "$$ \\sum_{j} mc_{j}y_{j} \\leq $500 $$\n",
    "\n",
    "\n",
    "##### Note: only pay one opening cost per energy type installed (e.g., when one small and one large solar installed, only pay one opening cost)\n"
   ]
  },
  {
   "cell_type": "markdown",
   "metadata": {},
   "source": [
    "## Optimization Tool"
   ]
  },
  {
   "cell_type": "code",
   "execution_count": 2,
   "metadata": {
    "pycharm": {
     "name": "#%%\n"
    },
    "scrolled": false
   },
   "outputs": [
    {
     "name": "stdout",
     "output_type": "stream",
     "text": [
      "Changed value of parameter LogToConsole to 0\n",
      "   Prev: 1  Min: 0  Max: 1  Default: 1\n"
     ]
    },
    {
     "ename": "GurobiError",
     "evalue": "No HostID specified in license file",
     "output_type": "error",
     "traceback": [
      "\u001B[0;31m---------------------------------------------------------------------------\u001B[0m",
      "\u001B[0;31mGurobiError\u001B[0m                               Traceback (most recent call last)",
      "\u001B[0;32m/var/folders/0q/svxgbmws653g0kmth3752x1c0000gp/T/ipykernel_43544/3414827926.py\u001B[0m in \u001B[0;36m<module>\u001B[0;34m\u001B[0m\n\u001B[0;32m----> 1\u001B[0;31m \u001B[0;32mfrom\u001B[0m \u001B[0moffgridoptimizer\u001B[0m\u001B[0;34m.\u001B[0m\u001B[0minterface\u001B[0m \u001B[0;32mimport\u001B[0m \u001B[0mOffGridOptimizer\u001B[0m\u001B[0;34m\u001B[0m\u001B[0;34m\u001B[0m\u001B[0m\n\u001B[0m\u001B[1;32m      2\u001B[0m \u001B[0mogo\u001B[0m \u001B[0;34m=\u001B[0m \u001B[0mOffGridOptimizer\u001B[0m\u001B[0;34m(\u001B[0m\u001B[0;34m)\u001B[0m\u001B[0;34m\u001B[0m\u001B[0;34m\u001B[0m\u001B[0m\n\u001B[1;32m      3\u001B[0m \u001B[0mogo\u001B[0m\u001B[0;34m.\u001B[0m\u001B[0minterface\u001B[0m\u001B[0;34m\u001B[0m\u001B[0;34m\u001B[0m\u001B[0m\n\u001B[1;32m      4\u001B[0m \u001B[0;34m\u001B[0m\u001B[0m\n",
      "\u001B[0;32m~/Documents/2021/lgo/optimization/project/offgridoptimizer/__init__.py\u001B[0m in \u001B[0;36m<module>\u001B[0;34m\u001B[0m\n\u001B[1;32m      1\u001B[0m \u001B[0;32mfrom\u001B[0m \u001B[0;34m.\u001B[0m\u001B[0mgrid\u001B[0m \u001B[0;32mimport\u001B[0m \u001B[0mGrid\u001B[0m\u001B[0;34m\u001B[0m\u001B[0;34m\u001B[0m\u001B[0m\n\u001B[1;32m      2\u001B[0m \u001B[0;32mfrom\u001B[0m \u001B[0;34m.\u001B[0m\u001B[0mproduct\u001B[0m \u001B[0;32mimport\u001B[0m \u001B[0mProduct\u001B[0m\u001B[0;34m\u001B[0m\u001B[0;34m\u001B[0m\u001B[0m\n\u001B[0;32m----> 3\u001B[0;31m \u001B[0;32mfrom\u001B[0m \u001B[0;34m.\u001B[0m\u001B[0mproject\u001B[0m \u001B[0;32mimport\u001B[0m \u001B[0mProject\u001B[0m\u001B[0;34m\u001B[0m\u001B[0;34m\u001B[0m\u001B[0m\n\u001B[0m\u001B[1;32m      4\u001B[0m \u001B[0;32mfrom\u001B[0m \u001B[0;34m.\u001B[0m\u001B[0mconfig_schema\u001B[0m \u001B[0;32mimport\u001B[0m \u001B[0mvalidate_config\u001B[0m\u001B[0;34m,\u001B[0m \u001B[0mload_and_validate\u001B[0m\u001B[0;34m\u001B[0m\u001B[0;34m\u001B[0m\u001B[0m\n",
      "\u001B[0;32m~/Documents/2021/lgo/optimization/project/offgridoptimizer/project.py\u001B[0m in \u001B[0;36m<module>\u001B[0;34m\u001B[0m\n\u001B[1;32m     12\u001B[0m \u001B[0mGP_ENV\u001B[0m \u001B[0;34m=\u001B[0m \u001B[0mgp\u001B[0m\u001B[0;34m.\u001B[0m\u001B[0mEnv\u001B[0m\u001B[0;34m(\u001B[0m\u001B[0mempty\u001B[0m\u001B[0;34m=\u001B[0m\u001B[0;32mTrue\u001B[0m\u001B[0;34m)\u001B[0m\u001B[0;34m\u001B[0m\u001B[0;34m\u001B[0m\u001B[0m\n\u001B[1;32m     13\u001B[0m \u001B[0mGP_ENV\u001B[0m\u001B[0;34m.\u001B[0m\u001B[0msetParam\u001B[0m\u001B[0;34m(\u001B[0m\u001B[0;34m'LogToConsole'\u001B[0m\u001B[0;34m,\u001B[0m \u001B[0;36m0\u001B[0m\u001B[0;34m)\u001B[0m\u001B[0;34m\u001B[0m\u001B[0;34m\u001B[0m\u001B[0m\n\u001B[0;32m---> 14\u001B[0;31m \u001B[0mGP_ENV\u001B[0m\u001B[0;34m.\u001B[0m\u001B[0mstart\u001B[0m\u001B[0;34m(\u001B[0m\u001B[0;34m)\u001B[0m\u001B[0;34m\u001B[0m\u001B[0;34m\u001B[0m\u001B[0m\n\u001B[0m\u001B[1;32m     15\u001B[0m \u001B[0;34m\u001B[0m\u001B[0m\n\u001B[1;32m     16\u001B[0m \u001B[0mMONTHS\u001B[0m \u001B[0;34m=\u001B[0m \u001B[0;34m[\u001B[0m\u001B[0;36m1\u001B[0m\u001B[0;34m,\u001B[0m \u001B[0;36m2\u001B[0m\u001B[0;34m,\u001B[0m \u001B[0;36m3\u001B[0m\u001B[0;34m,\u001B[0m \u001B[0;36m4\u001B[0m\u001B[0;34m,\u001B[0m \u001B[0;36m5\u001B[0m\u001B[0;34m,\u001B[0m \u001B[0;36m6\u001B[0m\u001B[0;34m,\u001B[0m \u001B[0;36m7\u001B[0m\u001B[0;34m,\u001B[0m \u001B[0;36m8\u001B[0m\u001B[0;34m,\u001B[0m \u001B[0;36m9\u001B[0m\u001B[0;34m,\u001B[0m \u001B[0;36m10\u001B[0m\u001B[0;34m,\u001B[0m \u001B[0;36m11\u001B[0m\u001B[0;34m,\u001B[0m \u001B[0;36m12\u001B[0m\u001B[0;34m]\u001B[0m\u001B[0;34m\u001B[0m\u001B[0;34m\u001B[0m\u001B[0m\n",
      "\u001B[0;32msrc/gurobipy/env.pxi\u001B[0m in \u001B[0;36mgurobipy.Env.start\u001B[0;34m()\u001B[0m\n",
      "\u001B[0;31mGurobiError\u001B[0m: No HostID specified in license file"
     ]
    }
   ],
   "source": [
    "from offgridoptimizer.interface import OffGridOptimizer\n",
    "ogo = OffGridOptimizer()\n",
    "ogo.interface"
   ]
  },
  {
   "cell_type": "code",
   "execution_count": null,
   "metadata": {},
   "outputs": [],
   "source": []
  }
 ],
 "metadata": {
  "kernelspec": {
   "display_name": "Python 3",
   "language": "python",
   "name": "python3"
  },
  "language_info": {
   "codemirror_mode": {
    "name": "ipython",
    "version": 3
   },
   "file_extension": ".py",
   "mimetype": "text/x-python",
   "name": "python",
   "nbconvert_exporter": "python",
   "pygments_lexer": "ipython3",
   "version": "3.7.10"
  }
 },
 "nbformat": 4,
 "nbformat_minor": 1
}