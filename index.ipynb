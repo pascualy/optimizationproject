{
 "cells": [
  {
   "cell_type": "code",
   "execution_count": 1,
   "metadata": {},
   "outputs": [],
   "source": [
    "from offgridoptimizer import Project, Product\n",
    "#'./configs/logan/config.json'\n",
    "\n"
   ]
  },
  {
   "cell_type": "code",
   "execution_count": 5,
   "metadata": {
    "pycharm": {
     "name": "#%%\n"
    },
    "scrolled": false
   },
   "outputs": [
    {
     "data": {
      "application/vnd.jupyter.widget-view+json": {
       "model_id": "",
       "version_major": 2,
       "version_minor": 0
      },
      "text/plain": [
       "Box(children=(HTML(value='<h1>Off-Grid Optimizer</h1>', layout=Layout(height='auto')), Button(description='Loa…"
      ]
     },
     "metadata": {},
     "output_type": "display_data"
    }
   ],
   "source": [
    "import ipysheet\n",
    "import ipywidgets as widgets\n",
    "\n",
    "\n",
    "from ipywidgets import Layout, Button, Box, FloatText, Textarea, Dropdown, Label, IntSlider\n",
    "from ipywidgets import HTML, Layout, Dropdown, Output, Textarea, VBox, Label\n",
    "\n",
    "# def product_config_to_sheet(products, sheets):\n",
    "    \n",
    "\n",
    "class iPyInterface:\n",
    "    def __init__(self, default_config_path='./configs/logan/config.json'):\n",
    "        self.default_config_path = default_config_path\n",
    "        self.demand_sheet = ipysheet.sheet(rows=3, columns=12)\n",
    "        self.budget_sheet = ipysheet.sheet(rows=2, columns=3)\n",
    "        self.products_sheet = ipysheet.sheet(rows=10, columns=8)\n",
    "        self.grid_sheet = ipysheet.sheet(rows=3, columns=2)\n",
    "\n",
    "        self.btn_default_config = widgets.Button(description='Load Default',\n",
    "                              disabled=False,\n",
    "                              button_style='',\n",
    "                              tooltip='Click me',\n",
    "                              icon='check')\n",
    "        self.btn_default_config.on_click(self.load_sheets)\n",
    "        self.btn_upload_config = widgets.FileUpload(\n",
    "                                 accept='csv',\n",
    "                                 multiple=False)\n",
    "\n",
    "        \n",
    "        self.layout = Layout(\n",
    "            display='flex',\n",
    "            flex_flow='row',\n",
    "            justify_content='space-between'\n",
    "        )\n",
    "\n",
    "\n",
    "        self.items = [\n",
    "            HTML(\"<h1>Off-Grid Optimizer</h1>\", layout=Layout(height='auto')),\n",
    "            self.btn_default_config,\n",
    "            self.btn_upload_config,\n",
    "            HTML(\"<h1>Demand</h1>\", layout=Layout(height='auto')),\n",
    "            self.demand_sheet,\n",
    "            HTML(\"<h1>Budget</h1>\", layout=Layout(height='auto')),\n",
    "            self.budget_sheet,\n",
    "            HTML(\"<h1>Products</h1>\", layout=Layout(height='auto')),\n",
    "            self.products_sheet\n",
    "        ]\n",
    "\n",
    "        self.form = Box(self.items, layout=Layout(\n",
    "            display='flex',\n",
    "            flex_flow='column',\n",
    "            border='solid 2px',\n",
    "            align_items='stretch',\n",
    "            width='100%'\n",
    "        ))\n",
    "        \n",
    "        self.project = None\n",
    "        \n",
    "    def load_sheets(self, btn):\n",
    "        self.project = Project.project_from_config(self.default_config_path)\n",
    "        products = self.project.products\n",
    "        \n",
    "        ipysheet.easy._last_sheet = self.products_sheet  # TODO: oh god this is awful\n",
    "        \n",
    "        self.products_sheet.rows = len(products) + 1\n",
    "        for col, header in enumerate(Product.headers()):\n",
    "            ipysheet.cell(0, col, header)\n",
    "        \n",
    "        for row, product in enumerate(products):\n",
    "            for col, data in enumerate(product.parameters()):\n",
    "                ipysheet.cell(row + 1, col, data if not isinstance(data, list) else str(data))\n",
    "        \n",
    "        ipysheet.easy._last_sheet = self.budget_sheet  # TODO: oh god this is awful\n",
    "        ipysheet.cell(0, 1, 'initial_budget') \n",
    "        ipysheet.cell(0, 2, 'monthly_budget')\n",
    "        ipysheet.cell(1, 0, 'Dollars ($)')\n",
    "        ipysheet.cell(1, 1, self.project.initial_budget)\n",
    "        ipysheet.cell(1, 2, self.project.monthly_budget)\n",
    "        \n",
    "iface = iPyInterface()\n",
    "iface.form"
   ]
  },
  {
   "cell_type": "code",
   "execution_count": null,
   "metadata": {},
   "outputs": [],
   "source": []
  },
  {
   "cell_type": "code",
   "execution_count": null,
   "metadata": {},
   "outputs": [],
   "source": []
  }
 ],
 "metadata": {
  "kernelspec": {
   "display_name": "Python 3",
   "language": "python",
   "name": "python3"
  },
  "language_info": {
   "codemirror_mode": {
    "name": "ipython",
    "version": 3
   },
   "file_extension": ".py",
   "mimetype": "text/x-python",
   "name": "python",
   "nbconvert_exporter": "python",
   "pygments_lexer": "ipython3",
   "version": "3.7.10"
  }
 },
 "nbformat": 4,
 "nbformat_minor": 1
}