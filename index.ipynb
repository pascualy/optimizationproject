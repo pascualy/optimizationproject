{
 "cells": [
  {
   "cell_type": "markdown",
   "metadata": {},
   "source": []
  },
  {
   "cell_type": "code",
   "execution_count": null,
   "metadata": {},
   "outputs": [],
   "source": []
  },
  {
   "cell_type": "markdown",
   "metadata": {},
   "source": [
    "### 15.066 Optimization Final Project Proposal (July 2021)"
   ]
  },
  {
   "cell_type": "markdown",
   "metadata": {},
   "source": [
    "## OFF GRID HOUSING ENERGY \n",
    "#### Lauren Heintz, Gabriel Pascualy, Logan Greene, Lisa Schleuter, Jomi Kramer, Nick Esposito \n",
    "\n",
    " \n",
    "\n"
   ]
  },
  {
   "cell_type": "markdown",
   "metadata": {},
   "source": [
    "## Background\n",
    "\n",
    "As the effects of global warming become increasingly apparent, people are considering living off the grid. Living off the grid means that you do not rely on public utilities for utilities like electricity, running water, sewer, natural gas, or heat, but rather you create your own energy. Currently, most people take a hybrid approach meaning that they utilize small capacity renewable energy products while still utilizing some public utilities.  \n",
    "\n",
    "For many Americans, the deciding factor to transition to low-carbon electricity is that the cost of energy from these products must be cheaper than the energy produced by the grid coupled with the environmental impact associated with the implementation.  In the past, the cost of renewable energy products was very expensive making it financially impractical to make the transition due to high initial costs for the equipment. Over time, the financial benefit of renewable energy products can save a substantial amount of money on utilities while vastly decreasing the impact on the environment. Just a decade ago, it was much cheaper to build a new coal-burning power plant than it was to build a large capacity wind or solar plant. Since then, the price per MWh has declined by 89% for large capacity renewable energy sources which has trickled down into the smaller capacity renewable energy product market (Roser, 2020)1. Recently, reductions in the initial cost of renewable energy products have been spurred on by improvements in manufacturing processes and advances in technology which have made living off the grid more accessible to a wider range of income levels. As of 2017, approximately 180,000 families live off the grid which is expected to significantly increase every year (Infoplease, 2020)2. \n",
    "\n",
    "Our project aims to assist Americans considering living off the grid. We plan to develop a tool to help minimize the overall cost associated with off-grid products for a family’s energy needs based on the energy resources available. Depending on their location, people can input variables into the tool, such as average monthly electricity and heat demand, initial and monthly budget, and costs associated with renewable energy products and grid information. Based on these parameters, the tool will output the best combination of products (including utilizing the grid) and the optimal number of units of each product to meet demand while minimizing financial and environmental costs.  "
   ]
  },
  {
   "cell_type": "markdown",
   "metadata": {},
   "source": [
    "## Demand\n",
    "Let $m$ := be the month of the year where $m \\in M$ where $M = \\{{1, 2, 3, 4, 5, 6, 7, 8, 9, 10, 11, 12}\\}$\n",
    "\n",
    "Let $h$ := be the hour of the day where $h \\in H$ where $H = \\{{0, 1, 2, 3, 4, 5, 6, 7, 8, 9, 10, 11, 12, 13, 14, 15, 16, 17, 18, 19, 20, 21, 22, 23}\\}$\n",
    "\n",
    "Let $d_{m,h}$:= be the customer electricity demand in KwH during hour $h$ in month $m$  where $d_{m,h} \\geq 0$"
   ]
  },
  {
   "cell_type": "markdown",
   "metadata": {},
   "source": [
    "## Power Sources\n",
    "Let $j$ := be a product $j$ $\\in$ $J$ where $J = {1, 2, 3, 4, ....}$\n",
    "\n",
    "Let $E$ := be a set containing indices of products which generate electricity \n",
    "\n",
    "Let $S$ := be a set containing indices of products which store electricity \n",
    "\n",
    "Let $et$ := be an energy type where $et \\in T = \\{{\"solar\", \"wind\", \"storage\"}\\}$\n",
    "\n",
    "Let $ET_{et}$ := be a set containing all products of energy type $et$\n",
    "\n",
    "Let $f: J \\rightarrow ET_{et}$ := be a dictionary that maps a product $j$ to the set containing all products with the same energy type $et$\n",
    "\n",
    "Let $TT$ := be the total energy storage of the system\n",
    "\n",
    "Let $TS_{m,h}$ := be the total energy stored this year through month $m$ and hour $h$\n",
    "\n",
    "Let $TC_{m,h}$ := be the total storage consumed this year through month $m$ and hour $h$\n",
    "\n",
    "Let $oc_{et}$ := be the opening cost in US dollars of installing required infrastructure for specific energy type $et$ \n",
    "\n",
    "Let $ic_j$ := be the incremental cost in US dollars of opening up an additional unit of a specific product $j$ where $ic_j \\geq 0$\n",
    "\n",
    "Let $mc_j$ := be the monthly cost in US dollars of maintaining one unit of product $j$ where $mc_j \\geq 0$\n",
    "\n",
    "Let $\\rho_{m,h,j}$ := be the efficiency of product $j$ during hour $h$ in month $m$ where $\\rho_{m,h,j}$ is continuous from 0 to 1\n",
    "\n",
    "Let $c_{j}$ := be the capacity of product $j$ in KwH if it generates or stores electricity\n",
    "\n",
    "Let $gc_{m,h}$ := be the cost of on-grid power in units of dollers per kilowatt hour"
   ]
  },
  {
   "cell_type": "markdown",
   "metadata": {},
   "source": [
    "## Decision Variables\n",
    "Let $x_j$ := be a binary variable representing whether or not the opening cost of $j$'s energy type is paid for where $x_j \\in$ {0,1}\n",
    "\n",
    "Let $y_{j}$ := be an integer variable representing the number of units of product $j$ where $y_j \\geq$ 0\n",
    "\n",
    "Let $g_{m,h}$ := be the continuous variable that represents the amount of power needed from the grid in kilowatt-hours during hour $h$ in month $m$.\n",
    "\n",
    "Let $es_{m,h,j}$ := be the continuous variable that represents the amount of energy stored by product $j$ (note: not all products can store energy)\n",
    "\n",
    "Let $sc_{m,h,j}$ := be the continuous variable that represents the amount of stored consumed from product $j$ (note: not all products can store energy)"
   ]
  },
  {
   "cell_type": "markdown",
   "metadata": {},
   "source": [
    "## Objective Function\n",
    "We want to minimize the cost; therefore, the objective function is the sum of the three kinds of costs:\n",
    "\n",
    "    a) opening cost (oc) the cost of initially setting up a new service\n",
    "\n",
    "    b) incremental cost (ic)\n",
    "    \n",
    "    c) monthly cost (mc)\n",
    "\n",
    "    d) grid montly cost (zc)\n",
    "\n",
    "$$\\min \\sum_{j} oc_jx_j + \\sum_{j} ic_jy_j + \\sum_{j} mc_{j}y_{j}  + \\sum_{m \\in M} \\sum_{h \\in H} g_{m,h}$$"
   ]
  },
  {
   "cell_type": "markdown",
   "metadata": {},
   "source": [
    "## Constraints\n",
    "\n",
    "### Demand Constraints\n",
    "1) Meet customer demand for electricity per hour per month\n",
    "\n",
    "$$\\forall m \\in M, \\forall h \\in H  \\sum_{j\\in E} \\rho_{m,h,j} y_{j} + \\sum_{j\\in S}sc_{m,h,j} + g_{m,h} \\geq d_{m,h}$$\n",
    "\n",
    "2) You have an initial budget of the amount of capital you have on hand to shell out for initial set up.\n",
    "$$  \\sum_{j} oc_jx_j + \\sum_{j} ic_jy_j \\leq $200,000 $$\n",
    "\n",
    "3) You also have a monthly budget.\n",
    "$$ \\sum_{j} mc_{j}y_{j} \\leq $500 $$\n",
    "\n",
    "4) Ensure at least 1 $x_j$ per energy type is 1 when any $y_j$ of the energy type is $\\geq 1$\n",
    "\n",
    "$$ \\forall j \\in J \\sum_{j' \\in f(j)} x_{j'} * M >= y_{j}$$\n",
    "\n",
    "4) Ensure that at most 1 $x_j$ per energy type is equal to 1\n",
    "\n",
    "$$ \\forall et \\in T \\sum_{j\\in ET_{et}}x_j \\leq 1$$\n",
    "\n",
    "5) Total storage consumed at hour $h$ during month $m$ cannot exceed electricity stored\n",
    "\n",
    "$$ \\forall m \\in M, \\forall h \\in H\\space TC_{m,h} \\leq TS_{m,h} $$ \n",
    "\n",
    "6) Storage available at hour $h$ during month $m$ cannot exceed total storage capacity\n",
    "\n",
    "$$ \\forall m \\in M, \\forall h \\in H\\space TS_{m,h} - TC_{m,h}  \\leq TT $$\n",
    "\n",
    "7) Electricity stored at hour $h$ during month $m$ cannot exceed the sum of electricity produced, storage consumed, and grid usage minus demand at hour $h$ during month $m$ \n",
    "\n",
    "$$ \\forall m \\in M, \\forall h \\in H\\space \\sum_{j\\in S} es_{m,h,j} \\leq \\sum_{j\\in E} \\rho_{m,h,j} y_{j} + \\sum_{j\\in S} sc_{m,h,j} + g_{m,h} - d_{m,h} $$\n",
    "\n",
    "##### Note: only pay one opening cost per energy type installed (e.g., when one small and one large solar installed, only pay one opening cost)\n"
   ]
  },
  {
   "cell_type": "markdown",
   "metadata": {},
   "source": [
    "## Optimization Tool"
   ]
  },
  {
   "cell_type": "code",
   "execution_count": 2,
   "metadata": {
    "pycharm": {
     "name": "#%%\n"
    },
    "scrolled": false
   },
   "outputs": [
    {
     "name": "stdout",
     "output_type": "stream",
     "text": [
      "Changed value of parameter LogToConsole to 0\n",
      "   Prev: 1  Min: 0  Max: 1  Default: 1\n"
     ]
    },
    {
     "data": {
      "application/vnd.jupyter.widget-view+json": {
       "model_id": "234fba9853a34066a8386ff7155b7f8e",
       "version_major": 2,
       "version_minor": 0
      },
      "text/plain": [
       "Box(children=(Box(children=(HTML(value='<h2>Off-Grid Optimizer</h2>', layout=Layout(height='auto')), Dropdown(…"
      ]
     },
     "metadata": {},
     "output_type": "display_data"
    }
   ],
   "source": [
    "from offgridoptimizer.interface import OffGridOptimizer\n",
    "ogo = OffGridOptimizer()\n",
    "ogo.load_sheets(None)\n",
    "ogo.optimize(None)\n",
    "ogo.interface"
   ]
  },
  {
   "cell_type": "code",
   "execution_count": null,
   "metadata": {},
   "outputs": [],
   "source": []
  }
 ],
 "metadata": {
  "kernelspec": {
   "display_name": "Python 3",
   "language": "python",
   "name": "python3"
  },
  "language_info": {
   "codemirror_mode": {
    "name": "ipython",
    "version": 3
   },
   "file_extension": ".py",
   "mimetype": "text/x-python",
   "name": "python",
   "nbconvert_exporter": "python",
   "pygments_lexer": "ipython3",
   "version": "3.7.10"
  }
 },
 "nbformat": 4,
 "nbformat_minor": 1
}
